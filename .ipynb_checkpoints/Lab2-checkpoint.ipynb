{
 "cells": [
  {
   "cell_type": "code",
   "execution_count": 1,
   "id": "5842eb66",
   "metadata": {},
   "outputs": [
    {
     "name": "stdout",
     "output_type": "stream",
     "text": [
      "1 2 3 4 5 6 7 8 9 10 11 12 13 14 15 16 17 18 19 20 21 22 23 24 25 26 27 28 29 30 31 32 33 34 35 36 37 38 39 40 41 42 43 44 45 46 47 48 49 50 51 52 53 54 55 56 57 58 59 60 61 62 63 64 65 66 67 68 69 70 71 72 73 74 75 76 77 78 79 80 81 82 83 84 85 86 87 88 89 90 91 92 93 94 95 96 97 98 99 100 "
     ]
    }
   ],
   "source": [
    "# Basic For loop\n",
    "# Print numbers from 1 to 100\n",
    "\n",
    "for i in range(1, 101) :\n",
    "    print(i, end = ' ')"
   ]
  },
  {
   "cell_type": "code",
   "execution_count": 2,
   "id": "3da9dc0f",
   "metadata": {},
   "outputs": [
    {
     "name": "stdout",
     "output_type": "stream",
     "text": [
      "2 4 6 8 10 12 14 16 18 20 22 24 26 28 30 32 34 36 38 40 42 44 46 48 50 52 54 56 58 60 62 64 66 68 70 72 74 76 78 80 82 84 86 88 90 92 94 96 98 100 "
     ]
    }
   ],
   "source": [
    "# Basic While Loop and if-else statement\n",
    "# Print even numbers from 1 to 100\n",
    "\n",
    "i = 1\n",
    "while i <= 100:\n",
    "    if i % 2 == 0:\n",
    "        print(i, end = \" \")\n",
    "    i += 1"
   ]
  },
  {
   "cell_type": "code",
   "execution_count": 3,
   "id": "1711c7f1",
   "metadata": {},
   "outputs": [
    {
     "name": "stdout",
     "output_type": "stream",
     "text": [
      "1 3 5 7 9 11 13 15 17 19 21 23 25 27 29 31 33 35 37 39 41 43 45 47 49 51 53 55 57 59 61 63 65 67 69 71 73 75 77 79 81 83 85 87 89 91 93 95 97 99 "
     ]
    }
   ],
   "source": [
    "# For Loop with step\n",
    "# Print odd numebrs from 1 to 100\n",
    "\n",
    "# Since 1 is known to be odd, a for loop is run with range from 1 to 100 and step = 2\n",
    "for i in range (1, 100, 2):\n",
    "    # At each iteration of the loop, i will only get odd values\n",
    "    print(i, end = \" \")"
   ]
  },
  {
   "cell_type": "code",
   "execution_count": 4,
   "id": "40f54b21",
   "metadata": {},
   "outputs": [
    {
     "name": "stdout",
     "output_type": "stream",
     "text": [
      "10 9 8 7 6 5 4 3 2 1 "
     ]
    }
   ],
   "source": [
    "# Do While loop \n",
    "# Print numbers from 10 to 1\n",
    "\n",
    "i = 10\n",
    "# Infinite loop\n",
    "while True:\n",
    "    # This statement executes atleast once no matter the value of i\n",
    "    # So, this implements do-while loop in Python\n",
    "    print(i, end = \" \")\n",
    "    i -= 1\n",
    "    # Checks for break condition\n",
    "    if (i == 0):\n",
    "        break"
   ]
  },
  {
   "cell_type": "code",
   "execution_count": 5,
   "id": "4dd445f6",
   "metadata": {},
   "outputs": [
    {
     "name": "stdout",
     "output_type": "stream",
     "text": [
      "1 \n",
      "1 2 \n",
      "1 2 3 \n",
      "1 2 3 4 \n",
      "1 2 3 4 5 "
     ]
    }
   ],
   "source": [
    "# Pattern Printing -> Number triangle using for loop and if-else statement\n",
    "# Non optimised\n",
    "\n",
    "for i in range (1, 6):\n",
    "    for j in range (1, 6):\n",
    "        if j <= i:\n",
    "            print(j, end = \" \")\n",
    "        else:\n",
    "            print()\n",
    "            break"
   ]
  },
  {
   "cell_type": "code",
   "execution_count": 6,
   "id": "eb4a7a2c",
   "metadata": {},
   "outputs": [
    {
     "name": "stdout",
     "output_type": "stream",
     "text": [
      "5 4 3 2 1 \n",
      "4 3 2 1 \n",
      "3 2 1 \n",
      "2 1 \n",
      "1 \n"
     ]
    }
   ],
   "source": [
    "# Pattern Printing -> Number triangle using for loop with step and if-else statement\n",
    "# Optimised and reversed\n",
    "\n",
    "for i in range (1, 6):\n",
    "    for j in range(6 - i, 0, -1):\n",
    "        print(j, end = \" \")\n",
    "    print()"
   ]
  },
  {
   "cell_type": "code",
   "execution_count": 7,
   "id": "4a0a4497",
   "metadata": {},
   "outputs": [
    {
     "name": "stdout",
     "output_type": "stream",
     "text": [
      "1 2 3 4 5 6 7 8 9 10 "
     ]
    }
   ],
   "source": [
    "# Example 1: Print the first 10 natural numbers using for loop.\n",
    "for i in range (1, 11):\n",
    "    print(i, end = \" \")"
   ]
  },
  {
   "cell_type": "code",
   "execution_count": 8,
   "id": "6050f34b",
   "metadata": {},
   "outputs": [
    {
     "name": "stdout",
     "output_type": "stream",
     "text": [
      "Enter lower limit of range: 1\n",
      "Enter higher limit of range: 5\n",
      "2 4 "
     ]
    }
   ],
   "source": [
    "# Example 2: Python program to print all the even numbers within the given range.\n",
    "\n",
    "low = int(input(\"Enter lower limit of range: \"))\n",
    "high = int(input(\"Enter higher limit of range: \"))\n",
    "\n",
    "if (low <= high):\n",
    "    # Check if low is an even number or not\n",
    "    if low % 2 != 0:\n",
    "        # If low is odd, add 1 to make it even\n",
    "        low += 1\n",
    "    # Now, a for loop with step = 2 is used to directly get all the even \n",
    "    # numbers between low and high without further checking\n",
    "    for i in range (low, high + 1, 2):\n",
    "        print(i, end = \" \")\n",
    "else:\n",
    "    print(\"Invalid range\")"
   ]
  },
  {
   "cell_type": "code",
   "execution_count": 9,
   "id": "ba294743",
   "metadata": {},
   "outputs": [
    {
     "name": "stdout",
     "output_type": "stream",
     "text": [
      "Enter a number upto which sum is to be calculated: 10\n",
      "Required Sum (Using for loop):  55\n",
      "Required Sum (Using sum() function):  55\n"
     ]
    }
   ],
   "source": [
    "# Example 3: Python program to calculate the sum of all numbers from 1 to a given number.\n",
    "\n",
    "num = int(input(\"Enter a number upto which sum is to be calculated: \"))\n",
    "# A variable to store sum of required range of numbers \n",
    "res = 0\n",
    "# In for Loop\n",
    "for i in range(1, num + 1):\n",
    "    res += i\n",
    "print(\"Required Sum (Using for loop): \", res)\n",
    "\n",
    "# Without using for loop -> using sum() function instead\n",
    "print(\"Required Sum (Using sum() function): \", sum(range(1, num + 1)))"
   ]
  },
  {
   "cell_type": "code",
   "execution_count": 10,
   "id": "6b0ea871",
   "metadata": {},
   "outputs": [
    {
     "name": "stdout",
     "output_type": "stream",
     "text": [
      "Enter lower limit of range: 5\n",
      "Enter higher limit of range: 10\n",
      "Required Sum:  21\n"
     ]
    }
   ],
   "source": [
    "# Example 4: Python program to calculate the sum of all the odd numbers within the given range.\n",
    "\n",
    "low = int(input(\"Enter lower limit of range: \"))\n",
    "high = int(input(\"Enter higher limit of range: \"))\n",
    "\n",
    "if (low <= high):\n",
    "    # Check if low is an odd number or not\n",
    "    if low % 2 == 0:\n",
    "        # If low is even, add 1 to make it odd\n",
    "        low += 1\n",
    "    print(\"Required Sum: \", sum(range(low, high + 1, 2)))\n",
    "else:\n",
    "    print(\"Invalid range\")"
   ]
  },
  {
   "cell_type": "code",
   "execution_count": 11,
   "id": "fa005ccb",
   "metadata": {},
   "outputs": [
    {
     "name": "stdout",
     "output_type": "stream",
     "text": [
      "Enter a number: 10\n",
      "10  x  1  =  10\n",
      "10  x  2  =  20\n",
      "10  x  3  =  30\n",
      "10  x  4  =  40\n",
      "10  x  5  =  50\n",
      "10  x  6  =  60\n",
      "10  x  7  =  70\n",
      "10  x  8  =  80\n",
      "10  x  9  =  90\n",
      "10  x  10  =  100\n"
     ]
    }
   ],
   "source": [
    "# Example 5: Python program to print a multiplication table of a given number\n",
    "num = int(input(\"Enter a number: \"))\n",
    "for i in range(1, 11):\n",
    "    print(num, \" x \", i, \" = \", num * i)"
   ]
  },
  {
   "cell_type": "code",
   "execution_count": 12,
   "id": "7de0456a",
   "metadata": {},
   "outputs": [
    {
     "name": "stdout",
     "output_type": "stream",
     "text": [
      "List elements are: 1 2 3 4 5 "
     ]
    }
   ],
   "source": [
    "# Example 6: Python program to display numbers from a list using a for loop.\n",
    "# Creating a list.\n",
    "list = [1, 2, 3, 4, 5]\n",
    "print(\"List elements are: \", end = \"\")\n",
    "for i in list:\n",
    "    print(i, end = \" \")"
   ]
  },
  {
   "cell_type": "code",
   "execution_count": 13,
   "id": "d63b84e9",
   "metadata": {},
   "outputs": [
    {
     "name": "stdout",
     "output_type": "stream",
     "text": [
      "Enter a number: 4675\n",
      "Number of digits = 4\n"
     ]
    }
   ],
   "source": [
    "# Example 7: Python program to count the total number of digits in a number.\n",
    "num = input(\"Enter a number: \")\n",
    "print(\"Number of digits =\", len(num))"
   ]
  },
  {
   "cell_type": "code",
   "execution_count": 14,
   "id": "6fe1d629",
   "metadata": {},
   "outputs": [
    {
     "name": "stdout",
     "output_type": "stream",
     "text": [
      "Enter a string: 121\n",
      "Is Palindrome:  True\n"
     ]
    }
   ],
   "source": [
    "# Example 8: Python program to check if the given string is a palindrome.\n",
    "str = input(\"Enter a string: \")\n",
    "# Convert String to lowercase\n",
    "str = str.lower()\n",
    "print(\"Is Palindrome: \", str == str[::-1])"
   ]
  },
  {
   "cell_type": "code",
   "execution_count": 15,
   "id": "732e0868",
   "metadata": {},
   "outputs": [
    {
     "name": "stdout",
     "output_type": "stream",
     "text": [
      "Enter a string: Hello World\n",
      "Reversed String:  dlroW olleH\n"
     ]
    }
   ],
   "source": [
    "# Example 9: Python program that accepts a word from the user and reverses it.\n",
    "string = input(\"Enter a string: \")\n",
    "print(\"Reversed String: \", string[::-1])"
   ]
  },
  {
   "cell_type": "code",
   "execution_count": 16,
   "id": "84a0d1a8",
   "metadata": {},
   "outputs": [
    {
     "name": "stdout",
     "output_type": "stream",
     "text": [
      "Enter a number: 153\n",
      "Is Armstrong:  True\n"
     ]
    }
   ],
   "source": [
    "# Example 10: Python program to check if a given number is an Armstrong number\n",
    "num = int(input(\"Enter a number: \"))\n",
    "sum = 0\n",
    "# Creating a temporary variable with same value as num\n",
    "temp = num\n",
    "while temp > 0:\n",
    "    sum += (temp % 10) ** 3\n",
    "    temp //= 10\n",
    "print(\"Is Armstrong: \", sum == num)"
   ]
  },
  {
   "cell_type": "code",
   "execution_count": 17,
   "id": "dda33714",
   "metadata": {},
   "outputs": [
    {
     "name": "stdout",
     "output_type": "stream",
     "text": [
      "Enter a list of integers: 5 7 8 9 10 11 19 20 30\n",
      "Number of Even Numbers in given series:  4\n",
      "Number of Odd Numbers in given series:  9\n"
     ]
    }
   ],
   "source": [
    "# Example 11: Python program to count the number of even \n",
    "# and odd numbers from a series of numbers.\n",
    "inputString = input(\"Enter a list of integers: \")\n",
    "list = inputString.split()\n",
    "list = [int(ele) for ele in list]\n",
    "\n",
    "# Varibles to keep count of even numbers and odd numbers\n",
    "countOdd = 0\n",
    "countEven = 0\n",
    "for ele in list:\n",
    "    if ele % 2 == 0:\n",
    "        countEven += 1\n",
    "    countOdd += 1\n",
    "\n",
    "print(\"Number of Even Numbers in given series: \", countEven)\n",
    "print(\"Number of Odd Numbers in given series: \", countOdd)"
   ]
  },
  {
   "cell_type": "code",
   "execution_count": 18,
   "id": "ee487c34",
   "metadata": {},
   "outputs": [
    {
     "name": "stdout",
     "output_type": "stream",
     "text": [
      "Enter lower limit of range: 5\n",
      "Enter higher limit of range: 15\n",
      "6 8 9 10 12 14 15 "
     ]
    }
   ],
   "source": [
    "# Example 12: Python program to display all numbers within a range except the prime numbers.\n",
    "\n",
    "# Function to check if a given number is prime or not\n",
    "def checkPrime(num):\n",
    "    if (num == 2):\n",
    "        return True\n",
    "    if (num <= 1):\n",
    "        return False\n",
    "    for i in range(2, (int) (num ** 0.5 + 1)):\n",
    "        if num % i == 0:\n",
    "            return False\n",
    "    return True\n",
    "    \n",
    "# Get the lower and higher limit of range\n",
    "low = int(input(\"Enter lower limit of range: \"))\n",
    "high = int(input(\"Enter higher limit of range: \"))\n",
    "\n",
    "if (high < low):\n",
    "    print(\"Invalid range\")\n",
    "\n",
    "else:\n",
    "    for i in range(low, high + 1):\n",
    "        # If element is NOT PRIME, then print it\n",
    "        if not checkPrime(i):\n",
    "            print(i, end = \" \")"
   ]
  },
  {
   "cell_type": "code",
   "execution_count": 49,
   "id": "706562c4",
   "metadata": {},
   "outputs": [
    {
     "name": "stdout",
     "output_type": "stream",
     "text": [
      "0 1 1 2 3 5 8 13 21 34 "
     ]
    }
   ],
   "source": [
    "# Example 13: Python program to get the Fibonacci series between 0 to 50.\n",
    "# First 2 elements of Fibonacci sequence are 0 and 1 respectively.\n",
    "ele1 = 0\n",
    "ele2 = 1\n",
    "\n",
    "# Printing the first 2 elements\n",
    "print(ele1, ele2, end = \" \")\n",
    "while ele1 + ele2 <= 50:\n",
    "    print(ele1 + ele2, end = \" \")\n",
    "    # Changing ele1 and ele2 to represent the latest 2 elements of the sequence\n",
    "    ele1, ele2 = ele2, ele1 + ele2"
   ]
  },
  {
   "cell_type": "code",
   "execution_count": 20,
   "id": "0322b58d",
   "metadata": {},
   "outputs": [
    {
     "name": "stdout",
     "output_type": "stream",
     "text": [
      "Enter a number: 5\n",
      "Factorial = 120\n"
     ]
    }
   ],
   "source": [
    "# Example 14: Python program to find the factorial of a given number.\n",
    "num = int(input(\"Enter a number: \"))\n",
    "# Check if the input number is -ve or not\n",
    "if (num < 0):\n",
    "    print(\"Invalid Number. Negative numbers do not have factorials\")\n",
    "# Check if input number is 0 or 1\n",
    "elif (num < 2):\n",
    "    print(\"Factoria = 1\")\n",
    "# Any number from 2 and above\n",
    "else:\n",
    "    fact = num\n",
    "    for i in range(2, num):\n",
    "        fact *= i\n",
    "    print(\"Factorial =\", fact)"
   ]
  },
  {
   "cell_type": "code",
   "execution_count": 22,
   "id": "695a6d40",
   "metadata": {},
   "outputs": [
    {
     "name": "stdout",
     "output_type": "stream",
     "text": [
      "Enter a stringHello123 World7878\n",
      "Number of Letters / Alphabets = 10\n",
      "Number of Digits = 7\n"
     ]
    }
   ],
   "source": [
    "# Example 15: Python program that accepts a string and \n",
    "# calculates the number of digits and letters\n",
    "string = input(\"Enter a string\")\n",
    "\n",
    "# Variables to store count of alphabets and digits respectively\n",
    "countLetter = 0\n",
    "countDigit = 0\n",
    "\n",
    "for char in string:\n",
    "    # Checks is character is Alphabet\n",
    "    if char.isalpha():\n",
    "        countLetter += 1\n",
    "    # Checks is character is Digit\n",
    "    elif char.isdigit():\n",
    "        countDigit += 1\n",
    "print(\"Number of Letters / Alphabets =\", countLetter)\n",
    "print(\"Number of Digits =\", countDigit)\n"
   ]
  },
  {
   "cell_type": "code",
   "execution_count": 23,
   "id": "21cdc292",
   "metadata": {},
   "outputs": [
    {
     "name": "stdout",
     "output_type": "stream",
     "text": [
      "Iterating through: 1 2 3 4 5 6 7 8 9 10 11 12 13 14 15 16 17 18 19 20 21 22 23 24 25 "
     ]
    }
   ],
   "source": [
    "# Example 16: Write a Python program that iterates the integers from 1 to 25.\n",
    "print(\"Iterating through: \", end = \"\")\n",
    "for i in range(1, 26):\n",
    "    print(i, end = \" \")"
   ]
  },
  {
   "cell_type": "code",
   "execution_count": 28,
   "id": "68b9f0b9",
   "metadata": {},
   "outputs": [
    {
     "name": "stdout",
     "output_type": "stream",
     "text": [
      "Enter your password: Hello@123\n",
      "Your password is Valid\n"
     ]
    }
   ],
   "source": [
    "# Example 17: Python program to check the validity of password input by users.\n",
    "\n",
    "# Import the regular expression module, this allows us to use the search() method\n",
    "from re import *\n",
    "# Flag Variable for checking\n",
    "valid = True\n",
    "password = input(\"Enter your password: \")\n",
    "if (len(password) < 8):\n",
    "    valid = False\n",
    "# Checks if previous cases are valid and the password contains lowercase or not\n",
    "if (not valid and not search(\"[a-z]\", password)):\n",
    "    valid = False\n",
    "# Checks if previous cases are valid and the password contains uppercase or not\n",
    "if (not valid and not search(\"[A-Z]\", password)):\n",
    "    valid = False\n",
    "# Checks if previous cases are valid and the password contains digit or not\n",
    "if (not valid and not search(\"[0-9]\", password)):\n",
    "    valid = False\n",
    "# Checks if previous cases are valid and the password contains uppercase or not\n",
    "if (not valid and not search(\"[A-Z]\", password)):\n",
    "    valid = False\n",
    "# Checks if previous cases are valid and the password contains special character or not\n",
    "if (not valid and not search(\"[_@$]\", password)):\n",
    "    valid = False\n",
    "\n",
    "if valid:\n",
    "    print(\"Your password is Valid\")\n",
    "else:\n",
    "    print(\"Your password is NOT Valid\")"
   ]
  },
  {
   "cell_type": "code",
   "execution_count": 33,
   "id": "54e53b63",
   "metadata": {},
   "outputs": [
    {
     "name": "stdout",
     "output_type": "stream",
     "text": [
      "Enter name of month: january\n",
      "Number of days: 31\n"
     ]
    }
   ],
   "source": [
    "# Example 18: Python program to convert the month name to a number of days.\n",
    "month = input(\"Enter name of month: \")\n",
    "# Convert month to lowercase for easier comparison\n",
    "month = month.lower()\n",
    "if month == \"january\" or month == \"march\" or month == \"may\" or month == \"july\" or month == \"august\" or month == \"october\" or month == \"december\":\n",
    "    print(\"Number of days: 31\")\n",
    "elif month == \"april\" or month == \"june\" or month == \"september\" or month == \"november\":\n",
    "    print(\"Number of days: 30\")\n",
    "elif month == \"february\":\n",
    "    print(\"Number of days: 28 (29 if leap year)\")\n",
    "else:\n",
    "    print(\"Invalid month name\")"
   ]
  },
  {
   "cell_type": "code",
   "execution_count": 35,
   "id": "4580615f",
   "metadata": {},
   "outputs": [
    {
     "name": "stdout",
     "output_type": "stream",
     "text": [
      "* \n",
      "* * \n",
      "* * * \n",
      "* * * * \n",
      "* * * * * \n"
     ]
    }
   ],
   "source": [
    "# Pattern Printing: Right Half Pyramid\n",
    "for i in range (0, 5):\n",
    "    for j in range (0, i+1):\n",
    "        print(\"*\", end = \" \")\n",
    "    print()"
   ]
  },
  {
   "cell_type": "code",
   "execution_count": 47,
   "id": "cbc86c75",
   "metadata": {},
   "outputs": [
    {
     "name": "stdout",
     "output_type": "stream",
     "text": [
      "            * \n",
      "          * * \n",
      "        * * * \n",
      "      * * * * \n",
      "    * * * * * \n"
     ]
    }
   ],
   "source": [
    "# Pattern Printing: Left Half Pyramid\n",
    "for i in range (0, 5):\n",
    "    # Printing Spaces\n",
    "    for j in range(0, 5 - i + 1):\n",
    "        print(\"  \", end=\"\")\n",
    "    # Printing Stars\n",
    "    for j in range(0, i + 1):\n",
    "        print(\"*\", end=\" \")\n",
    "    print()"
   ]
  },
  {
   "cell_type": "code",
   "execution_count": 51,
   "id": "c62e11ea",
   "metadata": {},
   "outputs": [
    {
     "name": "stdout",
     "output_type": "stream",
     "text": [
      "     * \n",
      "    * * \n",
      "   * * * \n",
      "  * * * * \n",
      " * * * * * \n"
     ]
    }
   ],
   "source": [
    "# Pattern Printing: Full Pyramid\n",
    "for i in range(1, 6):\n",
    "    for space in range(1, 6-i):\n",
    "        print(\" \", end=\"\")\n",
    "    # ith row has 'i' number of stars, separated by space\n",
    "    for j in range(1, i):\n",
    "        print(\"*\", end = \" \")\n",
    "    print()"
   ]
  },
  {
   "cell_type": "code",
   "execution_count": 52,
   "id": "deda05ad",
   "metadata": {},
   "outputs": [
    {
     "name": "stdout",
     "output_type": "stream",
     "text": [
      "* * * * * \n",
      "* * * * \n",
      "* * * \n",
      "* * \n",
      "* \n"
     ]
    }
   ],
   "source": [
    "# Pattern Printing: Inverted Right Half Pyramid\n",
    "for i in range (5, 0, -1):\n",
    "    for j in range(1, i + 1):\n",
    "        print(\"*\", end = \" \")\n",
    "    print()"
   ]
  },
  {
   "cell_type": "code",
   "execution_count": 53,
   "id": "c02ded0a",
   "metadata": {},
   "outputs": [
    {
     "name": "stdout",
     "output_type": "stream",
     "text": [
      "* * * * * \n",
      "  * * * * \n",
      "    * * * \n",
      "      * * \n",
      "        * \n"
     ]
    }
   ],
   "source": [
    "# Pattern Printing: Inverted Left Half Pyramid\n",
    "for i in range (0, 5):\n",
    "    for space in range (0, i):\n",
    "        print(\" \", end = \" \")\n",
    "    for j in range(5-i, 0, -1):\n",
    "        print(\"*\", end = \" \")\n",
    "    print()"
   ]
  },
  {
   "cell_type": "code",
   "execution_count": 56,
   "id": "034f5e27",
   "metadata": {},
   "outputs": [
    {
     "name": "stdout",
     "output_type": "stream",
     "text": [
      "* * * * * \n",
      " * * * * \n",
      "  * * * \n",
      "   * * \n",
      "    * \n"
     ]
    }
   ],
   "source": [
    "# Pattern Printing: Inverted Full Pyramid\n",
    "for i in range(0, 5):\n",
    "    for space in range(0, i):\n",
    "        print(\" \", end=\"\")\n",
    "    # ith row has 'i' number of stars, separated by space\n",
    "    for j in range(0, 5 - i):\n",
    "        print(\"*\", end = \" \")\n",
    "    print()"
   ]
  },
  {
   "cell_type": "code",
   "execution_count": 57,
   "id": "97d75fe2",
   "metadata": {},
   "outputs": [
    {
     "name": "stdout",
     "output_type": "stream",
     "text": [
      "* * * * \n",
      "  * * * * \n",
      "    * * * * \n",
      "      * * * * \n",
      "        * * * * \n"
     ]
    }
   ],
   "source": [
    "# Pattern Printing: Rhombus\n",
    "for i in range(0, 5):\n",
    "    for space in range(0, i):\n",
    "        print(\" \", end = \" \")\n",
    "    for j in range (0, 4):\n",
    "        print(\"*\", end = \" \")\n",
    "    print()"
   ]
  },
  {
   "cell_type": "code",
   "execution_count": 67,
   "id": "d049c50f",
   "metadata": {},
   "outputs": [
    {
     "name": "stdout",
     "output_type": "stream",
     "text": [
      "    \n",
      "   * \n",
      "  * * \n",
      " * * * \n",
      "* * * * \n",
      " * * * \n",
      "  * * \n",
      "   * \n",
      "    \n"
     ]
    }
   ],
   "source": [
    "# Pattern Printing: Diamond\n",
    "# Upper full pyramid\n",
    "for i in range(1, 6):\n",
    "    for space in range(1, 6-i):\n",
    "        print(\" \", end=\"\")\n",
    "    # ith row has 'i' number of stars, separated by space\n",
    "    for j in range(1, i):\n",
    "        print(\"*\", end = \" \")\n",
    "    print()\n",
    "    \n",
    "# Lower Inverted Pyramid\n",
    "for i in range(1, 5):\n",
    "    for space in range(0, i):\n",
    "        print(\" \", end=\"\")\n",
    "    # ith row has 'i' number of stars, separated by space\n",
    "    for j in range(0, 4 - i):\n",
    "        print(\"*\", end = \" \")\n",
    "    print()"
   ]
  },
  {
   "cell_type": "code",
   "execution_count": 83,
   "id": "2e9f1636",
   "metadata": {},
   "outputs": [
    {
     "name": "stdout",
     "output_type": "stream",
     "text": [
      "* * * * \n",
      " * * * \n",
      "  * * \n",
      "   * \n",
      "  * * \n",
      " * * * \n",
      "* * * * \n"
     ]
    }
   ],
   "source": [
    "# Pattern Printing: Hourglass Pattern\n",
    "# Lower Inverted Pyramid -> Top Part of Hourglass\n",
    "for i in range(1, 5):  \n",
    "    for space in range(1, i): \n",
    "        print(\" \", end = \"\") \n",
    "    for j in range(i, 5):  \n",
    "        print(\"*\", end = \" \")  \n",
    "    print() \n",
    "\n",
    "# Upper full pyramid -> Bottom Part of Hourglass\n",
    "for i in range(3, 0, -1):  \n",
    "    for space in range(1, i): \n",
    "        print(\" \", end = \"\") \n",
    "        \n",
    "    for j in range(i, 5): \n",
    "        print(\"*\", end = \" \") \n",
    "    print() "
   ]
  },
  {
   "cell_type": "code",
   "execution_count": 85,
   "id": "f14b053a",
   "metadata": {},
   "outputs": [
    {
     "name": "stdout",
     "output_type": "stream",
     "text": [
      "* * * * * * \n",
      "*         * \n",
      "*         * \n",
      "*         * \n",
      "*         * \n",
      "* * * * * * \n"
     ]
    }
   ],
   "source": [
    "# Pattern Printing: Hollow Square Pattern\n",
    "for i in range(0, 6):\n",
    "    for j in range(0, 6):\n",
    "        if i == 0 or j == 0 or i == 5 or j == 5:\n",
    "            print(\"*\", end = \" \")\n",
    "        else:\n",
    "            print(\" \", end = \" \")\n",
    "    print()"
   ]
  }
 ],
 "metadata": {
  "kernelspec": {
   "display_name": "Python 3 (ipykernel)",
   "language": "python",
   "name": "python3"
  },
  "language_info": {
   "codemirror_mode": {
    "name": "ipython",
    "version": 3
   },
   "file_extension": ".py",
   "mimetype": "text/x-python",
   "name": "python",
   "nbconvert_exporter": "python",
   "pygments_lexer": "ipython3",
   "version": "3.11.5"
  }
 },
 "nbformat": 4,
 "nbformat_minor": 5
}
