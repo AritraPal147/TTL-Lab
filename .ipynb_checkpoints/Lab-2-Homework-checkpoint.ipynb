{
 "cells": [
  {
   "cell_type": "code",
   "execution_count": 2,
   "id": "a370d9d6",
   "metadata": {},
   "outputs": [
    {
     "name": "stdout",
     "output_type": "stream",
     "text": [
      "57\n",
      "GUESS GAME: Guess the correct number between 1 and 100\n",
      "Enter your guess: 100\n",
      "Your guess is HIGHER than the target.\n",
      "Enter your guess: 50\n",
      "Your guess is LOWER than the target.\n",
      "Enter your guess: 57\n",
      "Your guess is CORRECT.\n",
      "Congratulations!! You have won the game!!!\n"
     ]
    }
   ],
   "source": [
    "# Q) Create a guessing game where the user has to guess a randomly generated number. \n",
    "# Use branching, looping, and flow control statements to manage the game's flow.\n",
    "\n",
    "# random module used to generate a random number\n",
    "import random\n",
    "# Generates a random number between 1 and 100\n",
    "target = random.randrange(1, 101)\n",
    "\n",
    "print(\"GUESS GAME: Guess the correct number between 1 and 100\")\n",
    "# Infinite while loop to prompt user for guess\n",
    "while (True):\n",
    "    # Take user input (guess)\n",
    "    guess = int(input(\"Enter your guess: \"))\n",
    "    # Check if guess is higher than target\n",
    "    if guess > target:\n",
    "        print(\"Your guess is HIGHER than the target.\")\n",
    "    # Check if guess is lower than target\n",
    "    elif guess < target:\n",
    "        print(\"Your guess is LOWER than the target.\")\n",
    "    # Otherwise, the guess is the target\n",
    "    else:\n",
    "        print(\"Your guess is CORRECT.\\nCongratulations! You have won the game!!\")\n",
    "        break"
   ]
  }
 ],
 "metadata": {
  "kernelspec": {
   "display_name": "Python 3 (ipykernel)",
   "language": "python",
   "name": "python3"
  },
  "language_info": {
   "codemirror_mode": {
    "name": "ipython",
    "version": 3
   },
   "file_extension": ".py",
   "mimetype": "text/x-python",
   "name": "python",
   "nbconvert_exporter": "python",
   "pygments_lexer": "ipython3",
   "version": "3.11.5"
  }
 },
 "nbformat": 4,
 "nbformat_minor": 5
}
