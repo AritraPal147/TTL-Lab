{
 "cells": [
  {
   "cell_type": "code",
   "execution_count": 17,
   "id": "8361d6bb",
   "metadata": {},
   "outputs": [
    {
     "name": "stdout",
     "output_type": "stream",
     "text": [
      "Array from list: [1 2 3 4 5]\n",
      "Zero array: [0. 0. 0. 0. 0.]\n",
      "Ones Array:\n",
      " [[1. 1. 1. 1.]\n",
      " [1. 1. 1. 1.]\n",
      " [1. 1. 1. 1.]]\n",
      "Array from range: [ 0  2  4  6  8 10]\n"
     ]
    }
   ],
   "source": [
    "# EXPERIMENT - 11\n",
    "# Create NumPy arrays with different methods (lists, zeros, ones, arange).\n",
    "\n",
    "import numpy as np\n",
    "\n",
    "# Creating array from list\n",
    "dataList = [1, 2, 3, 4, 5]\n",
    "arrFromList = np.array(dataList)\n",
    "print(\"Array from list:\", arrFromList)\n",
    "\n",
    "# Creating array filled with zeros\n",
    "zeroArr = np.zeros(5)\n",
    "print(\"Zero array:\", zeroArr)\n",
    "\n",
    "# Creating 2D array filled with ones\n",
    "oneArr = np.ones((3, 4))\n",
    "print(\"Ones Array:\\n\", oneArr)\n",
    "\n",
    "# Creating array from range 0 to 10, even numbers only\n",
    "rangeArr = np.arange(0, 11, 2)\n",
    "print(\"Array from range:\", rangeArr)"
   ]
  },
  {
   "cell_type": "code",
   "execution_count": 12,
   "id": "a370d9d6",
   "metadata": {},
   "outputs": [
    {
     "name": "stdout",
     "output_type": "stream",
     "text": [
      "Array 1:\n",
      " [[1 2 3 4 5]\n",
      " [5 4 3 2 1]]\n",
      "Array 2:\n",
      " [ 6  7  8  9 -1]\n",
      "\n",
      "Sum of arrays:\n",
      " [[ 7  9 11 13  4]\n",
      " [11 11 11 11  0]]\n",
      "\n",
      "Difference of arrays:\n",
      " [[-5 -5 -5 -5  6]\n",
      " [-1 -3 -5 -7  2]]\n",
      "\n",
      "Product of arrays:\n",
      " [[ 6 14 24 36 -5]\n",
      " [30 28 24 18 -1]]\n",
      "\n",
      "Division of arrays:\n",
      " [[ 0.16666667  0.28571429  0.375       0.44444444 -5.        ]\n",
      " [ 0.83333333  0.57142857  0.375       0.22222222 -1.        ]]\n"
     ]
    }
   ],
   "source": [
    "# Perform mathematical operations on NumPy arrays \n",
    "# (addition, subtraction, multiplication, division).\n",
    "\n",
    "arr1 = np.array([[1, 2, 3, 4, 5], [5, 4, 3, 2, 1]])\n",
    "arr2 = np.array([6, 7, 8, 9, -1])\n",
    "\n",
    "print(\"Array 1:\\n\", arr1)\n",
    "print(\"Array 2:\\n\", arr2)\n",
    "\n",
    "print(\"\\nSum of arrays:\\n\", np.add(arr1, arr2))\n",
    "print(\"\\nDifference of arrays:\\n\", np.subtract(arr1, arr2))\n",
    "print(\"\\nProduct of arrays:\\n\", np.multiply(arr1, arr2))\n",
    "print(\"\\nDivision of arrays:\\n\", np.divide(arr1, arr2))"
   ]
  },
  {
   "cell_type": "code",
   "execution_count": 11,
   "id": "c2ae0225",
   "metadata": {},
   "outputs": [
    {
     "name": "stdout",
     "output_type": "stream",
     "text": [
      "Array: \n",
      "[[1 2 3 4 5]\n",
      " [6 7 8 9 0]]\n",
      "\n",
      "INDEXING:\n",
      "First Element: 1\n",
      "Last Element of first row: 5\n",
      "First Element of second row: 6\n",
      "Last Element of second row: 0\n",
      "\n",
      "SLICING:\n",
      "Middle 3 elements of first row: [2 3 4]\n",
      "Last 3 elements of second row: [8 9 0]\n",
      "Odd positioned elements of first row: [1 3 5]\n",
      "Middle 3 elements of both rows:\n",
      " [[2 3 4]\n",
      " [7 8 9]]\n"
     ]
    }
   ],
   "source": [
    "# Practice indexing and slicing NumPy arrays.\n",
    "\n",
    "# Declaring a 2D array\n",
    "array = np.array([[1, 2, 3, 4, 5], [6, 7, 8, 9, 0]])\n",
    "\n",
    "print(\"Array: \")\n",
    "print(array)\n",
    "\n",
    "# Indexing\n",
    "print(\"\\nINDEXING:\")\n",
    "print(\"First Element:\", array[0, 0])\n",
    "print(\"Last Element of first row:\", array[0, -1])\n",
    "print(\"First Element of second row:\", array[1, 0])\n",
    "print(\"Last Element of second row:\", array[1, -1])\n",
    "\n",
    "# Slicing\n",
    "print(\"\\nSLICING:\")\n",
    "print(\"Middle 3 elements of first row:\", array[0, 1:4])\n",
    "print(\"Last 3 elements of second row:\", array[1, -3:])\n",
    "print(\"Odd positioned elements of first row:\", array[0, ::2])\n",
    "print(\"Middle 3 elements of both rows:\\n\", array[0:2, 1:4])"
   ]
  },
  {
   "cell_type": "code",
   "execution_count": 19,
   "id": "b2ce0971",
   "metadata": {},
   "outputs": [
    {
     "name": "stdout",
     "output_type": "stream",
     "text": [
      "Array: [99, 86, 87, 88, 111, 86, 103, 87, 94, 78, 77, 85, 86]\n",
      "Mean: 89.76923076923077\n",
      "Median: 87.0\n",
      "Mode: ModeResult(mode=86, count=3)\n"
     ]
    }
   ],
   "source": [
    "# Use NumPy functions for basic statistical analysis like mean, median and mode.\n",
    "\n",
    "from scipy import stats\n",
    "\n",
    "arr = [99, 86, 87, 88, 111, 86, 103, 87, 94, 78, 77, 85, 86]\n",
    "print(\"Array:\", arr)\n",
    "\n",
    "# Mean\n",
    "mean = np.mean(arr)\n",
    "print(\"Mean:\", mean)\n",
    "\n",
    "# Median \n",
    "median = np.median(arr)\n",
    "print(\"Median:\", median)\n",
    "\n",
    "# Mode\n",
    "mode = stats.mode(arr)\n",
    "print(\"Mode:\", mode)"
   ]
  },
  {
   "cell_type": "code",
   "execution_count": 26,
   "id": "72006085",
   "metadata": {},
   "outputs": [
    {
     "name": "stdout",
     "output_type": "stream",
     "text": [
      "Array:\n",
      " [[ 1  2  3]\n",
      " [ 4  5  6]\n",
      " [ 7  8  9]\n",
      " [10 11 12]]\n",
      "\n",
      "Transposed Array:\n",
      " [[ 1  4  7 10]\n",
      " [ 2  5  8 11]\n",
      " [ 3  6  9 12]]\n",
      "\n",
      "Flattened Array: [ 1  2  3  4  5  6  7  8  9 10 11 12]\n",
      "\n",
      "Reshaped Array:\n",
      " [[ 1  2  3  4  5  6]\n",
      " [ 7  8  9 10 11 12]]\n",
      "\n",
      "Reshaped Array:\n",
      " [[[ 1  2]\n",
      "  [ 3  4]\n",
      "  [ 5  6]]\n",
      "\n",
      " [[ 7  8]\n",
      "  [ 9 10]\n",
      "  [11 12]]]\n"
     ]
    }
   ],
   "source": [
    "# Experiment with reshaping and transposing NumPy arrays\n",
    "\n",
    "arr = np.array([[1, 2, 3], [4, 5, 6], [7, 8, 9], [10, 11, 12]])\n",
    "print(\"Array:\\n\", arr)\n",
    "\n",
    "# Transpose of array\n",
    "arrTranspose = np.transpose(arr)\n",
    "print(\"\\nTransposed Array:\\n\", arrTranspose)\n",
    "\n",
    "# Reshaping - Flattening\n",
    "flatArr = arr.reshape(-1)\n",
    "print(\"\\nFlattened Array:\", flatArr)\n",
    "\n",
    "# Reshaping to 2 x 6 array\n",
    "reshapedArr = arr.reshape(2, 6)\n",
    "print(\"\\nReshaped Array:\\n\", reshapedArr)\n",
    "\n",
    "# Reshaping into 3D array, outermost level has 2 arrays, each of\n",
    "# which contains 3 arrays with 2 elements each\n",
    "reshapedArr = arr.reshape(2, 3, 2)\n",
    "print(\"\\nReshaped Array:\\n\", reshapedArr)"
   ]
  }
 ],
 "metadata": {
  "kernelspec": {
   "display_name": "Python 3 (ipykernel)",
   "language": "python",
   "name": "python3"
  },
  "language_info": {
   "codemirror_mode": {
    "name": "ipython",
    "version": 3
   },
   "file_extension": ".py",
   "mimetype": "text/x-python",
   "name": "python",
   "nbconvert_exporter": "python",
   "pygments_lexer": "ipython3",
   "version": "3.11.5"
  }
 },
 "nbformat": 4,
 "nbformat_minor": 5
}
