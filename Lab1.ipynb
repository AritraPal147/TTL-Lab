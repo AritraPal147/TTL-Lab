{
 "cells": [
  {
   "cell_type": "code",
   "execution_count": 4,
   "id": "fceed1ce",
   "metadata": {},
   "outputs": [
    {
     "name": "stdout",
     "output_type": "stream",
     "text": [
      "Hello KIIT\n"
     ]
    }
   ],
   "source": [
    "print(\"Hello KIIT\")"
   ]
  },
  {
   "cell_type": "code",
   "execution_count": 15,
   "id": "9f30975a",
   "metadata": {},
   "outputs": [
    {
     "name": "stdout",
     "output_type": "stream",
     "text": [
      "Sum =  35\n",
      "Difference =  5\n",
      "Product =  300\n",
      "Division =  1.3333333333333333\n",
      "Integer division =  1\n",
      "Remainder:  5\n"
     ]
    }
   ],
   "source": [
    "# Use mathematical operators\n",
    "a = 20\n",
    "b = 15\n",
    "print(\"Sum = \", a + b)\n",
    "print(\"Difference = \", a - b)\n",
    "print(\"Product = \", a * b)\n",
    "print(\"Division = \", a / b)\n",
    "print(\"Integer division = \", a // b)\n",
    "print(\"Remainder: \", a % b)"
   ]
  },
  {
   "cell_type": "code",
   "execution_count": 12,
   "id": "d4822f4e",
   "metadata": {},
   "outputs": [
    {
     "name": "stdout",
     "output_type": "stream",
     "text": [
      "Enter a number: 5\n",
      "Enter a floating point number: 5\n",
      "Sum =  10.0\n",
      "Difference =  0.0\n",
      "Product =  25.0\n",
      "Division =  1.0\n",
      "\n",
      "Equality check:  True\n",
      "\n",
      "Enter a string: hello\n",
      "The string is:  hello\n"
     ]
    }
   ],
   "source": [
    "# Take input from user\n",
    "\n",
    "# Integer and Float\n",
    "a = int(input(\"Enter a number: \"))\n",
    "b = float(input(\"Enter a floating point number: \"))\n",
    "print(\"Sum = \", a + b)\n",
    "print(\"Difference = \", a - b)\n",
    "print(\"Product = \", a * b)\n",
    "print(\"Division = \", a / b)\n",
    "\n",
    "# Using boolean\n",
    "check = a == b\n",
    "print(\"\\nEquality check: \", check)\n",
    "\n",
    "# String input\n",
    "string = input(\"\\nEnter a string: \")\n",
    "print(\"The string is: \", string);"
   ]
  },
  {
   "cell_type": "code",
   "execution_count": 13,
   "id": "44e24b4f",
   "metadata": {},
   "outputs": [
    {
     "name": "stdout",
     "output_type": "stream",
     "text": [
      "Enter radius of circle: 5\n",
      "Area:  78.53981633974483 , Perimeter:  31.41592653589793\n",
      "\n",
      "Enter length of rectangle: 6\n",
      "Enter breadth of rectangle: \n"
     ]
    },
    {
     "ename": "SyntaxError",
     "evalue": "invalid syntax (<string>, line 0)",
     "output_type": "error",
     "traceback": [
      "Traceback \u001b[0;36m(most recent call last)\u001b[0m:\n",
      "\u001b[0m  File \u001b[1;32m~/anaconda3/lib/python3.11/site-packages/IPython/core/interactiveshell.py:3526\u001b[0m in \u001b[1;35mrun_code\u001b[0m\n    exec(code_obj, self.user_global_ns, self.user_ns)\u001b[0m\n",
      "\u001b[0;36m  Cell \u001b[0;32mIn[13], line 12\u001b[0;36m\n\u001b[0;31m    b = eval(input(\"Enter breadth of rectangle: \"))\u001b[0;36m\n",
      "\u001b[0;36m  File \u001b[0;32m<string>\u001b[0;36m\u001b[0m\n\u001b[0;31m    \u001b[0m\n\u001b[0m    ^\u001b[0m\n\u001b[0;31mSyntaxError\u001b[0m\u001b[0;31m:\u001b[0m invalid syntax\n"
     ]
    }
   ],
   "source": [
    "# Area and Perimeter of Shapes\n",
    "import math\n",
    "\n",
    "# Circle\n",
    "r = eval(input(\"Enter radius of circle: \"))\n",
    "area = math.pi * (r ** 2)\n",
    "perimeter = 2 * math.pi * r\n",
    "print(\"Area: \", area, \", Perimeter: \", perimeter)\n",
    "\n",
    "# Rectangle\n",
    "l = eval(input(\"\\nEnter length of rectangle: \"))\n",
    "b = eval(input(\"Enter breadth of rectangle: \"))\n",
    "area = l * b\n",
    "perimeter = 2 * (l + b)\n",
    "print(\"Area: \", area, \", Perimeter: \", perimeter)\n",
    "\n",
    "# Triangle\n",
    "a = eval(input(\"\\nEnter 1st side of triangle: \"))\n",
    "b = eval(input(\"Enter 2nd side of triangle: \"))\n",
    "c = eval(input(\"Enter 3rd side of triangle: \"))\n",
    "perimeter = a + b + c\n",
    "s = perimeter / 2\n",
    "area = (s * (s - a) * (s - b) * (s - c)) ** 0.5\n",
    "print(\"Area: \", area, \", Perimeter: \", perimeter)\n",
    "\n",
    "# Sphere\n",
    "r = eval(input(\"\\nEnter radius of sphere: \"))\n",
    "surfaceArea = 4 * math.pi * (r ** 2)\n",
    "volume = (4 / 3) * math.pi * (r ** 3)\n",
    "print(\"Surface Area: \", surfaceArea, \", Volume: \", volume)\n",
    "\n",
    "# Cone\n",
    "r = eval(input(\"\\nEnter radius of cone: \"))\n",
    "h = eval(input(\"Enter height of cone: \"))\n",
    "surfaceArea = math.pi * r * r + math.pi * r * h\n",
    "volume = math.pi * r * r * h / 3\n",
    "print(\"Surface Area: \", surfaceArea, \", Volume: \", volume)"
   ]
  },
  {
   "cell_type": "code",
   "execution_count": 22,
   "id": "d6c399f0",
   "metadata": {},
   "outputs": [
    {
     "name": "stdout",
     "output_type": "stream",
     "text": [
      "Enter a number: 5\n",
      "Odd Number\n"
     ]
    }
   ],
   "source": [
    "# Check odd or even\n",
    "num = int(input(\"Enter a number: \"))\n",
    "print(\"Odd Number\") if num % 2 != 0 else print(\"Even Number\")"
   ]
  },
  {
   "cell_type": "code",
   "execution_count": 17,
   "id": "aeb3acd6",
   "metadata": {},
   "outputs": [
    {
     "name": "stdout",
     "output_type": "stream",
     "text": [
      "Enter radius of circle: 5\n",
      "Area:  78.53981633974483 , Perimeter:  31.41592653589793\n"
     ]
    }
   ],
   "source": [
    "# Area and Perimeter of circle using function\n",
    "import math\n",
    "def area(radius):\n",
    "    return math.pi * radius * radius\n",
    "\n",
    "def perimeter(radius):\n",
    "    return 2 * math.pi * radius\n",
    "\n",
    "r = eval(input(\"Enter radius of circle: \"))\n",
    "print(\"Area: \", area(r), \", Perimeter: \", perimeter(r))"
   ]
  },
  {
   "cell_type": "code",
   "execution_count": 55,
   "id": "b2479da7",
   "metadata": {},
   "outputs": [
    {
     "name": "stdout",
     "output_type": "stream",
     "text": [
      "Enter a number: 153\n",
      "Not Prime\n",
      "Not Palindrome\n",
      "Not Perfect\n",
      "Armstrong\n"
     ]
    }
   ],
   "source": [
    "# Check for prime\n",
    "def checkPrime(num):\n",
    "    if (num == 2):\n",
    "        return True\n",
    "    if (num <= 1):\n",
    "        return False\n",
    "    for i in range(2, (int) (num ** 0.5 + 1)):\n",
    "        if num % i == 0:\n",
    "            return False\n",
    "    return True\n",
    "\n",
    "# Check for palindrome\n",
    "def checkPalindrome(num):\n",
    "    return True if str(num) == str(num)[::-1] else False\n",
    "\n",
    "# Check for perfect numbers\n",
    "def checkPerfect(num):\n",
    "    if num < 6:\n",
    "        return True\n",
    "    sum = 0\n",
    "    for i in range(1, (int) (num / 2 + 1)):\n",
    "        if num % i == 0:\n",
    "            sum += i\n",
    "    return sum == num\n",
    "\n",
    "# Check for armstrong number\n",
    "def checkArmstrong(num):\n",
    "    sum = 0\n",
    "    temp = num\n",
    "    while temp > 0:\n",
    "        digit = temp % 10\n",
    "        sum += digit ** 3\n",
    "        temp //= 10\n",
    "    return sum == num\n",
    "\n",
    "num = int(input(\"Enter a number: \"))\n",
    "print(\"Prime\") if checkPrime(num) else print(\"Not Prime\")\n",
    "print(\"Palindrome\") if checkPalindrome(num) else print(\"Not Palindrome\")\n",
    "print(\"Perfect\") if checkPerfect(num) else print(\"Not Perfect\")\n",
    "print(\"Armstrong\") if checkArmstrong(num) else print(\"Not Armstrong\")"
   ]
  }
 ],
 "metadata": {
  "kernelspec": {
   "display_name": "Python 3 (ipykernel)",
   "language": "python",
   "name": "python3"
  },
  "language_info": {
   "codemirror_mode": {
    "name": "ipython",
    "version": 3
   },
   "file_extension": ".py",
   "mimetype": "text/x-python",
   "name": "python",
   "nbconvert_exporter": "python",
   "pygments_lexer": "ipython3",
   "version": "3.11.5"
  }
 },
 "nbformat": 4,
 "nbformat_minor": 5
}
