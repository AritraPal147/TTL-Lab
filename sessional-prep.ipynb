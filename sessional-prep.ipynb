{
 "cells": [
  {
   "cell_type": "code",
   "execution_count": 1,
   "id": "a370d9d6",
   "metadata": {},
   "outputs": [
    {
     "name": "stdout",
     "output_type": "stream",
     "text": [
      "[5, 4, 3, 2, 1]\n"
     ]
    }
   ],
   "source": [
    "# 1. Write a Python function to reverse a list.\n",
    "\n",
    "def reverse(userList):\n",
    "    return userList[::-1]\n",
    "\n",
    "userList = [1, 2, 3, 4, 5]\n",
    "resList = reverse(userList)\n",
    "print(resList)"
   ]
  },
  {
   "cell_type": "code",
   "execution_count": 2,
   "id": "ef94adf4",
   "metadata": {},
   "outputs": [
    {
     "name": "stdout",
     "output_type": "stream",
     "text": [
      "[[0. 0. 0.]\n",
      " [0. 0. 0.]\n",
      " [0. 0. 0.]]\n"
     ]
    }
   ],
   "source": [
    "# 2. Create a NumPy array filled with zeros of shape (3, 3).\n",
    "\n",
    "import numpy as np\n",
    "arr = np.zeros((3, 3))\n",
    "print(arr)"
   ]
  },
  {
   "cell_type": "code",
   "execution_count": 3,
   "id": "eaaa6b87",
   "metadata": {},
   "outputs": [
    {
     "data": {
      "text/plain": [
       "True"
      ]
     },
     "execution_count": 3,
     "metadata": {},
     "output_type": "execute_result"
    }
   ],
   "source": [
    "# 3. Write a function to check if a given number is prime or not.\n",
    "\n",
    "def checkPrime(num):\n",
    "    if (num < 2):\n",
    "        return False\n",
    "    elif num == 2:\n",
    "        return True\n",
    "    for i in range(2, (int)(num ** (0.5) + 1)):\n",
    "        if (num % i == 0):\n",
    "            return False\n",
    "    return True\n",
    "\n",
    "num = 151\n",
    "checkPrime(num)"
   ]
  },
  {
   "cell_type": "code",
   "execution_count": 4,
   "id": "9a7fc019",
   "metadata": {},
   "outputs": [
    {
     "name": "stdout",
     "output_type": "stream",
     "text": [
      "  Name  Age Job\n",
      "0    A    2   B\n",
      "1    C    5   D\n",
      "2    E    8   G\n"
     ]
    }
   ],
   "source": [
    "# 4. How to convert a list of tuples into a pandas DataFrame?\n",
    "\n",
    "import pandas as pd\n",
    "lis = [(\"A\", 2,\"B\"), (\"C\", 5, \"D\"), (\"E\", 8, \"G\")]\n",
    "dataFrame = pd.DataFrame(lis, columns = ['Name', 'Age', 'Job'])\n",
    "print(dataFrame)"
   ]
  },
  {
   "cell_type": "code",
   "execution_count": 5,
   "id": "070f6c26",
   "metadata": {},
   "outputs": [
    {
     "data": {
      "text/plain": [
       "120"
      ]
     },
     "execution_count": 5,
     "metadata": {},
     "output_type": "execute_result"
    }
   ],
   "source": [
    "# 5. Implement a function to find the factorial of a number recursively.\n",
    "\n",
    "def fact(num):\n",
    "    if (num == 1):\n",
    "        return 1\n",
    "    return num * fact(num - 1)\n",
    "\n",
    "number = 5\n",
    "fact(number)"
   ]
  },
  {
   "cell_type": "code",
   "execution_count": 6,
   "id": "425d2266",
   "metadata": {},
   "outputs": [
    {
     "name": "stdout",
     "output_type": "stream",
     "text": [
      "[[1. 1. 1. 1. 1.]\n",
      " [1. 0. 0. 0. 1.]\n",
      " [1. 0. 0. 0. 1.]\n",
      " [1. 1. 1. 1. 1.]]\n"
     ]
    }
   ],
   "source": [
    "# 6. Write a NumPy program to create a 2d array with 1 on the border and 0 inside.\n",
    "\n",
    "# lis = [[1, 1, 1, 1, 1],\n",
    "#        [1, 0, 0, 0, 1], \n",
    "#        [1, 1, 1, 1, 1]]\n",
    "# arr = np.array(lis)\n",
    "# print(arr)\n",
    "\n",
    "arr = np.zeros((4, 5))\n",
    "arr[:, 0] = 1\n",
    "arr[0, :] = 1\n",
    "arr[-1, :] = 1\n",
    "arr[:, -1] = 1\n",
    "print(arr)"
   ]
  },
  {
   "cell_type": "code",
   "execution_count": 7,
   "id": "e428485b",
   "metadata": {},
   "outputs": [
    {
     "name": "stdout",
     "output_type": "stream",
     "text": [
      "19\n"
     ]
    }
   ],
   "source": [
    "# 7. Given a list of numbers, write a Python function to find \n",
    "# the sum of all the numbers in the list.\n",
    "\n",
    "def allSum(list):\n",
    "    sum = 0\n",
    "    for ele in list:\n",
    "        sum += ele\n",
    "    return sum\n",
    "\n",
    "list = [5, 2, 3, 4, 5]\n",
    "print(allSum(list))"
   ]
  },
  {
   "cell_type": "code",
   "execution_count": 8,
   "id": "3d37d357",
   "metadata": {},
   "outputs": [
    {
     "name": "stdout",
     "output_type": "stream",
     "text": [
      "{1: 5, 2: 1, 5: 1, 8: 0, 9: 1, 0: 2}\n"
     ]
    }
   ],
   "source": [
    "# 8. How to count the occurrences of each element in a NumPy array?\n",
    "\n",
    "dict = {}\n",
    "arr = np.array([1, 2, 1, 1, 1, 2, 5, 5, 8, 9, 9, 0, 1, 0, 1, 0])\n",
    "\n",
    "for ele in arr:\n",
    "    if ele in dict:\n",
    "        dict[ele] += 1\n",
    "    else:\n",
    "        dict[ele] = 0    \n",
    "print(dict)"
   ]
  },
  {
   "cell_type": "code",
   "execution_count": 9,
   "id": "8d624058",
   "metadata": {},
   "outputs": [
    {
     "data": {
      "text/plain": [
       "False"
      ]
     },
     "execution_count": 9,
     "metadata": {},
     "output_type": "execute_result"
    }
   ],
   "source": [
    "# 9. Write a Python function to check if a string is a palindrome.\n",
    "\n",
    "def checkPalindrome(string):\n",
    "    string = string.lower()\n",
    "    if string == string[::-1]:\n",
    "        return True\n",
    "    return False\n",
    "\n",
    "checkPalindrome(\"Nitin1\")"
   ]
  },
  {
   "cell_type": "code",
   "execution_count": 10,
   "id": "ed6d4ca0",
   "metadata": {},
   "outputs": [
    {
     "data": {
      "text/html": [
       "<div>\n",
       "<style scoped>\n",
       "    .dataframe tbody tr th:only-of-type {\n",
       "        vertical-align: middle;\n",
       "    }\n",
       "\n",
       "    .dataframe tbody tr th {\n",
       "        vertical-align: top;\n",
       "    }\n",
       "\n",
       "    .dataframe thead th {\n",
       "        text-align: right;\n",
       "    }\n",
       "</style>\n",
       "<table border=\"1\" class=\"dataframe\">\n",
       "  <thead>\n",
       "    <tr style=\"text-align: right;\">\n",
       "      <th></th>\n",
       "      <th>Name</th>\n",
       "      <th>Age</th>\n",
       "    </tr>\n",
       "  </thead>\n",
       "  <tbody>\n",
       "    <tr>\n",
       "      <th>0</th>\n",
       "      <td>A</td>\n",
       "      <td>1</td>\n",
       "    </tr>\n",
       "    <tr>\n",
       "      <th>1</th>\n",
       "      <td>B</td>\n",
       "      <td>2</td>\n",
       "    </tr>\n",
       "    <tr>\n",
       "      <th>2</th>\n",
       "      <td>C</td>\n",
       "      <td>3</td>\n",
       "    </tr>\n",
       "  </tbody>\n",
       "</table>\n",
       "</div>"
      ],
      "text/plain": [
       "  Name  Age\n",
       "0    A    1\n",
       "1    B    2\n",
       "2    C    3"
      ]
     },
     "execution_count": 10,
     "metadata": {},
     "output_type": "execute_result"
    }
   ],
   "source": [
    "# 10. Create a pandas DataFrame from a dictionary where each key-value pair represents a column.\n",
    "\n",
    "dict = {\"Name\": [\"A\", 'B', 'C'], \"Age\": [1, 2, 3]}\n",
    "df = pd.DataFrame(dict)\n",
    "df.head()"
   ]
  },
  {
   "cell_type": "code",
   "execution_count": 11,
   "id": "5aa7eaea",
   "metadata": {},
   "outputs": [
    {
     "name": "stdout",
     "output_type": "stream",
     "text": [
      "False\n"
     ]
    }
   ],
   "source": [
    "# 11. Implement a function to check if two strings are anagrams of each other.\n",
    "\n",
    "def checkAnagram(str1, str2):\n",
    "    if len(str1) != len(str2):\n",
    "        return False\n",
    "    sortedStr1 = sorted(str1)\n",
    "    sortedStr2 = sorted(str2)\n",
    "    return sortedStr1 == sortedStr2\n",
    "\n",
    "print(checkAnagram('angell', 'gglean'))"
   ]
  },
  {
   "cell_type": "code",
   "execution_count": 12,
   "id": "74d3febc",
   "metadata": {},
   "outputs": [
    {
     "name": "stdout",
     "output_type": "stream",
     "text": [
      "(5, 1)\n"
     ]
    }
   ],
   "source": [
    "# 12. Write a Python function to find the maximum and minimum values in a list.\n",
    "\n",
    "def maxMin(list):\n",
    "    max = -1000\n",
    "    min = 1000\n",
    "    for ele in list:\n",
    "        if ele > max:\n",
    "            max = ele\n",
    "        if ele < min:\n",
    "            min = ele\n",
    "    return max, min\n",
    "\n",
    "print(maxMin([1, 2, 3, 4, 5]))"
   ]
  },
  {
   "cell_type": "code",
   "execution_count": 13,
   "id": "cb36f7c8",
   "metadata": {},
   "outputs": [
    {
     "name": "stdout",
     "output_type": "stream",
     "text": [
      "[ 1  2  3  4  5  6  7  8  9 10]\n"
     ]
    }
   ],
   "source": [
    "# 13. Create a NumPy array with values ranging from 1 to 10.\n",
    "\n",
    "arr = np.arange(1, 11)\n",
    "print(arr)"
   ]
  },
  {
   "cell_type": "code",
   "execution_count": 14,
   "id": "3ce70bc0",
   "metadata": {},
   "outputs": [
    {
     "name": "stdout",
     "output_type": "stream",
     "text": [
      "[[1 1 1 1 1]\n",
      " [1 0 0 0 1]\n",
      " [1 1 1 1 1]]\n",
      "\n",
      " [[1 1 1]\n",
      " [1 0 1]\n",
      " [1 0 1]\n",
      " [1 0 1]\n",
      " [1 1 1]]\n"
     ]
    }
   ],
   "source": [
    "# 14. How to transpose a NumPy array?\n",
    "\n",
    "lis = [[1, 1, 1, 1, 1],\n",
    "       [1, 0, 0, 0, 1], \n",
    "       [1, 1, 1, 1, 1]]\n",
    "arr = np.array(lis)\n",
    "print(arr)\n",
    "arr = np.transpose(arr)\n",
    "print('\\n',arr)"
   ]
  },
  {
   "cell_type": "code",
   "execution_count": 15,
   "id": "f577795d",
   "metadata": {},
   "outputs": [
    {
     "name": "stdout",
     "output_type": "stream",
     "text": [
      "[1, 2]\n"
     ]
    }
   ],
   "source": [
    "# 15. Write a Python function to remove duplicates from a list.\n",
    "\n",
    "def uniqueList(list):\n",
    "    unique = []\n",
    "    seen = set()\n",
    "    for ele in list:\n",
    "        if ele not in seen:\n",
    "            unique.append(ele)\n",
    "            seen.add(ele)\n",
    "    return unique\n",
    "\n",
    "print(uniqueList([1, 1, 1, 1, 2, 2, 1, 2, 2, 1, 2]))\n",
    "        "
   ]
  },
  {
   "cell_type": "code",
   "execution_count": 16,
   "id": "7f0af717",
   "metadata": {},
   "outputs": [
    {
     "name": "stdout",
     "output_type": "stream",
     "text": [
      "(2, 1)\n"
     ]
    }
   ],
   "source": [
    "# 16. Implement a function to find the intersection of two lists.\n",
    "\n",
    "def findIntersection(list1, list2):\n",
    "    for i in range(len(list1)):\n",
    "        for j in range(len(list2)):\n",
    "            if list1[i] == list2[j]:\n",
    "                return i, j\n",
    "    return -1, -1\n",
    "\n",
    "print(findIntersection([1, 2, 3], [4, 3, 3]))"
   ]
  },
  {
   "cell_type": "code",
   "execution_count": 17,
   "id": "a2b97f0d",
   "metadata": {},
   "outputs": [
    {
     "name": "stdout",
     "output_type": "stream",
     "text": [
      "6.66133814775094e-16\n"
     ]
    }
   ],
   "source": [
    "# 17. Write a NumPy program to compute the determinant of a given square array.\n",
    "import numpy as np\n",
    "\n",
    "def determinant(arr):\n",
    "  # Check if the array is square\n",
    "  if not arr.shape[0] == arr.shape[1]:\n",
    "    raise ValueError(\"Input array must be a square matrix\")\n",
    "\n",
    "  # Use np.linalg.det for efficient determinant calculation\n",
    "  return np.linalg.det(arr)\n",
    "\n",
    "# Example usage\n",
    "arr = np.array([[1, 2, 3], [4, 5, 6], [7, 8, 9]])\n",
    "det = determinant(arr)\n",
    "print(det)"
   ]
  },
  {
   "cell_type": "code",
   "execution_count": 18,
   "id": "5fd93c67",
   "metadata": {},
   "outputs": [
    {
     "data": {
      "text/html": [
       "<div>\n",
       "<style scoped>\n",
       "    .dataframe tbody tr th:only-of-type {\n",
       "        vertical-align: middle;\n",
       "    }\n",
       "\n",
       "    .dataframe tbody tr th {\n",
       "        vertical-align: top;\n",
       "    }\n",
       "\n",
       "    .dataframe thead th {\n",
       "        text-align: right;\n",
       "    }\n",
       "</style>\n",
       "<table border=\"1\" class=\"dataframe\">\n",
       "  <thead>\n",
       "    <tr style=\"text-align: right;\">\n",
       "      <th></th>\n",
       "      <th>Name</th>\n",
       "      <th>Age</th>\n",
       "    </tr>\n",
       "  </thead>\n",
       "  <tbody>\n",
       "    <tr>\n",
       "      <th>2</th>\n",
       "      <td>Charlie</td>\n",
       "      <td>22</td>\n",
       "    </tr>\n",
       "    <tr>\n",
       "      <th>0</th>\n",
       "      <td>Alice</td>\n",
       "      <td>25</td>\n",
       "    </tr>\n",
       "    <tr>\n",
       "      <th>1</th>\n",
       "      <td>Bob</td>\n",
       "      <td>30</td>\n",
       "    </tr>\n",
       "  </tbody>\n",
       "</table>\n",
       "</div>"
      ],
      "text/plain": [
       "      Name  Age\n",
       "2  Charlie   22\n",
       "0    Alice   25\n",
       "1      Bob   30"
      ]
     },
     "execution_count": 18,
     "metadata": {},
     "output_type": "execute_result"
    }
   ],
   "source": [
    "# 18. How to sort a pandas DataFrame by a specific column?\n",
    "\n",
    "data = {'Name': ['Alice', 'Bob', 'Charlie'], 'Age': [25, 30, 22]}\n",
    "df = pd.DataFrame(data)\n",
    "df = df.sort_values(by = 'Age')\n",
    "df.head()"
   ]
  },
  {
   "cell_type": "code",
   "execution_count": 19,
   "id": "8538e241",
   "metadata": {},
   "outputs": [
    {
     "name": "stdout",
     "output_type": "stream",
     "text": [
      "[0, 1, 1, 2, 3, 5, 8, 13, 21, 34]\n"
     ]
    }
   ],
   "source": [
    "# 19. Create a Python function to generate the Fibonacci sequence up to n terms.\n",
    "\n",
    "def fibo(n):\n",
    "    first = 0\n",
    "    next = 1\n",
    "    res = []\n",
    "    res.append(first)\n",
    "    res.append(next)\n",
    "    if n == 0:\n",
    "        print(\"No output\")\n",
    "    elif n == 1:\n",
    "        print(first)\n",
    "    elif n == 2:\n",
    "        print(res)\n",
    "    j = 1\n",
    "    for i in range(2, n):\n",
    "        res.append(res[j] + res[j - 1])\n",
    "        j += 1\n",
    "    print(res)\n",
    "\n",
    "fibo(10)"
   ]
  },
  {
   "cell_type": "code",
   "execution_count": 20,
   "id": "68c00424",
   "metadata": {},
   "outputs": [
    {
     "name": "stdout",
     "output_type": "stream",
     "text": [
      "26\n"
     ]
    }
   ],
   "source": [
    "# 20. Write a NumPy program to compute the inner product of two given vectors.\n",
    "\n",
    "def product(vec1, vec2):\n",
    "    return np.dot(vec1, vec2)\n",
    "\n",
    "vec1 = np.array([1, 2, 3])\n",
    "vec2 = np.array([3, 4, 5])\n",
    "print(product(vec1, vec2))"
   ]
  },
  {
   "cell_type": "code",
   "execution_count": 21,
   "id": "37511862",
   "metadata": {},
   "outputs": [
    {
     "name": "stdout",
     "output_type": "stream",
     "text": [
      "[[1 2 3]\n",
      " [4 5 6]\n",
      " [7 8 9]]\n",
      "[1 2 3 4 5 6 7 8 9]\n"
     ]
    }
   ],
   "source": [
    "# 21. Implement a function to flatten a nested list.\n",
    "\n",
    "arr = np.array([[1, 2, 3], [4, 5, 6], [7, 8, 9]])\n",
    "print(arr)\n",
    "arr = arr.reshape(-1)\n",
    "print(arr)"
   ]
  },
  {
   "cell_type": "code",
   "execution_count": 22,
   "id": "5ff31a49",
   "metadata": {},
   "outputs": [
    {
     "name": "stdout",
     "output_type": "stream",
     "text": [
      "Even\n"
     ]
    }
   ],
   "source": [
    "# 22. Write a Python function to check if a number is even or odd.\n",
    "\n",
    "def checkEven(num):\n",
    "    if (num % 2 == 0):\n",
    "        return True\n",
    "    return False\n",
    "\n",
    "num = 6\n",
    "if checkEven(num):\n",
    "    print(\"Even\")\n",
    "else:\n",
    "    print(\"Odd\")"
   ]
  },
  {
   "cell_type": "code",
   "execution_count": 23,
   "id": "7cfecfa4",
   "metadata": {},
   "outputs": [
    {
     "name": "stdout",
     "output_type": "stream",
     "text": [
      "   Rem1  Rem2\n",
      "0     1     4\n",
      "1     2     5\n",
      "2     3     6\n"
     ]
    }
   ],
   "source": [
    "# 23. How to rename columns in a pandas DataFrame?\n",
    "\n",
    "data = {'col1': [1, 2, 3], 'col2': [4, 5, 6]}\n",
    "df = pd.DataFrame(data)\n",
    "newNames = {'col1': \"Rem1\", 'col2': 'Rem2'}\n",
    "df = df.rename(columns = newNames)\n",
    "print(df)"
   ]
  },
  {
   "cell_type": "code",
   "execution_count": 24,
   "id": "28e07619",
   "metadata": {},
   "outputs": [
    {
     "name": "stdout",
     "output_type": "stream",
     "text": [
      "[82 23 34 86 68 43 77 28 90 43 80 82 17 15 51 43 25 51 63 98]\n"
     ]
    }
   ],
   "source": [
    "# 24. Create a NumPy array of random integers between 1 and 100.\n",
    "\n",
    "arr = np.random.randint(1, 101, size = 20)\n",
    "print(arr)"
   ]
  },
  {
   "cell_type": "code",
   "execution_count": 25,
   "id": "cfef7da3",
   "metadata": {},
   "outputs": [
    {
     "name": "stdout",
     "output_type": "stream",
     "text": [
      "4.5\n"
     ]
    }
   ],
   "source": [
    "# 25. Write a Python function to find the median of a list.\n",
    "\n",
    "list = [1, 2, 3, 4, 5, 6, 10, 20]\n",
    "arr = np.array(list)\n",
    "print(np.median(arr))"
   ]
  },
  {
   "cell_type": "code",
   "execution_count": 26,
   "id": "0359bca0",
   "metadata": {},
   "outputs": [
    {
     "name": "stdout",
     "output_type": "stream",
     "text": [
      "[10, 20, 1, 2, 3, 4, 5]\n"
     ]
    }
   ],
   "source": [
    "# 26. Implement a function to rotate a list to the right by k steps.\n",
    "\n",
    "def rotateRight(list, k):\n",
    "    return list[k+1:] + list[0:k]\n",
    "    \n",
    "list = [1, 2, 3, 4, 5, 6, 10, 20]\n",
    "print(rotateRight(list, 5))"
   ]
  },
  {
   "cell_type": "code",
   "execution_count": 27,
   "id": "a92e02d5",
   "metadata": {},
   "outputs": [
    {
     "name": "stdout",
     "output_type": "stream",
     "text": [
      "6.375 4.5 ModeResult(mode=1, count=1)\n"
     ]
    }
   ],
   "source": [
    "# 27. Write a NumPy program to compute the mean, median, and mode of a given array.\n",
    "\n",
    "import scipy as sp\n",
    "arr = np.array(list)\n",
    "mean = np.mean(arr)\n",
    "median = np.median(arr)\n",
    "mode = sp.stats.mode(arr)\n",
    "\n",
    "print(mean, median, mode)"
   ]
  },
  {
   "cell_type": "code",
   "execution_count": 28,
   "id": "51b2e40c",
   "metadata": {},
   "outputs": [
    {
     "name": "stdout",
     "output_type": "stream",
     "text": [
      "   col1  col2     Name  Age\n",
      "0     1     4    Alice   25\n",
      "1     2     5      Bob   30\n",
      "2     3     6  Charlie   22\n"
     ]
    }
   ],
   "source": [
    "# 28. How to concatenate two pandas DataFrames?\n",
    "\n",
    "data = {'col1': [1, 2, 3], 'col2': [4, 5, 6]}\n",
    "df1 = pd.DataFrame(data)\n",
    "\n",
    "data = {'Name': ['Alice', 'Bob', 'Charlie'], 'Age': [25, 30, 22]}\n",
    "df2 = pd.DataFrame(data)\n",
    "\n",
    "dfComb = pd.concat([df1, df2], axis = 1)\n",
    "print(dfComb)"
   ]
  },
  {
   "cell_type": "code",
   "execution_count": 29,
   "id": "464d0c53",
   "metadata": {},
   "outputs": [
    {
     "name": "stdout",
     "output_type": "stream",
     "text": [
      "[1, 2, 3]\n",
      "[1, 3, 2]\n",
      "[2, 1, 3]\n",
      "[2, 3, 1]\n",
      "[3, 1, 2]\n",
      "[3, 2, 1]\n"
     ]
    }
   ],
   "source": [
    "# 29. Create a Python function to generate all possible permutations of a list.\n",
    "\n",
    "def permutations(data):\n",
    "  # Base case: If the list is empty, yield an empty list (one permutation)\n",
    "    if len(data) == 0:\n",
    "        yield []\n",
    "    else:\n",
    "        # For each element in the list, generate permutations of the remaining elements\n",
    "        for i, element in enumerate(data):\n",
    "          # Get all permutations of the remaining elements (excluding the current element)\n",
    "          for permutation in permutations(data[:i] + data[i + 1:]):\n",
    "            # Prepend the current element to each permutation to create a new permutation\n",
    "            yield [element] + permutation\n",
    "\n",
    "# Example usage\n",
    "data = [1, 2, 3]\n",
    "for permutation in permutations(data):\n",
    "    print(permutation)"
   ]
  },
  {
   "cell_type": "code",
   "execution_count": 30,
   "id": "e8eba8f1",
   "metadata": {},
   "outputs": [
    {
     "name": "stdout",
     "output_type": "stream",
     "text": [
      "Maximum indices (rows): [1 0 1]\n",
      "Minimum indices (rows): [0 1 0]\n",
      "Maximum indices (columns): [1 2]\n",
      "Minimum indices (columns): [0 1]\n",
      "Maximum indices (flattened): 5\n",
      "Minimum indices (flattened): 0\n"
     ]
    }
   ],
   "source": [
    "# 30. Write a NumPy program to find the indices of \n",
    "# the maximum and minimum values along the given axis of an array.\n",
    "\n",
    "def arg_extrema(arr, axis=None):\n",
    "  # Find indices of maximum and minimum values\n",
    "    max_indices = np.argmax(arr, axis=axis)\n",
    "    min_indices = np.argmin(arr, axis=axis)\n",
    "\n",
    "    return max_indices, min_indices\n",
    "\n",
    "# Sample array\n",
    "arr = np.array([[1, 5, 2], [4, 3, 6]])\n",
    "\n",
    "# Find extrema along axis 0 (rows)\n",
    "max_indices_row, min_indices_row = arg_extrema(arr, axis=0)\n",
    "print(\"Maximum indices (rows):\", max_indices_row)\n",
    "print(\"Minimum indices (rows):\", min_indices_row)\n",
    "\n",
    "# Find extrema along axis 1 (columns)\n",
    "max_indices_col, min_indices_col = arg_extrema(arr, axis=1)\n",
    "print(\"Maximum indices (columns):\", max_indices_col)\n",
    "print(\"Minimum indices (columns):\", min_indices_col)\n",
    "\n",
    "# Find extrema across all elements (flattened array)\n",
    "max_indices_flat, min_indices_flat = arg_extrema(arr)\n",
    "print(\"Maximum indices (flattened):\", max_indices_flat)\n",
    "print(\"Minimum indices (flattened):\", min_indices_flat)"
   ]
  },
  {
   "cell_type": "code",
   "execution_count": 31,
   "id": "4e101f17",
   "metadata": {},
   "outputs": [
    {
     "name": "stdout",
     "output_type": "stream",
     "text": [
      "True\n"
     ]
    }
   ],
   "source": [
    "# 31. Implement a function to check if a string contains only digits.\n",
    "\n",
    "def checkDigit(str):\n",
    "    check = \"1234567890\"\n",
    "    for ele in str:\n",
    "        if ele not in check:\n",
    "            return False\n",
    "    return True\n",
    "\n",
    "print(checkDigit(\"123\"))"
   ]
  },
  {
   "cell_type": "code",
   "execution_count": 32,
   "id": "9b06b190",
   "metadata": {},
   "outputs": [
    {
     "data": {
      "text/plain": [
       "True"
      ]
     },
     "execution_count": 32,
     "metadata": {},
     "output_type": "execute_result"
    }
   ],
   "source": [
    "# 32. Write a Python function to check if a given year is a leap year.\n",
    "\n",
    "def checkYear(year):\n",
    "    if (year % 100 == 0 & year % 400 == 0):\n",
    "        return True\n",
    "    elif (year % 4 == 0):\n",
    "        return True\n",
    "    return False\n",
    "\n",
    "checkYear(2000)"
   ]
  },
  {
   "cell_type": "code",
   "execution_count": 33,
   "id": "d7c03542",
   "metadata": {},
   "outputs": [
    {
     "name": "stdout",
     "output_type": "stream",
     "text": [
      "   col1  col2\n",
      "0     1   4.0\n",
      "1     2   5.0\n"
     ]
    }
   ],
   "source": [
    "# 33. How to drop missing values from a pandas DataFrame?\n",
    "\n",
    "data = {'col1': [1, 2, 3], 'col2': [4, 5, None]}\n",
    "df = pd.DataFrame(data)\n",
    "dfNew = df.dropna()\n",
    "print(dfNew)"
   ]
  },
  {
   "cell_type": "code",
   "execution_count": 34,
   "id": "d5cb3246",
   "metadata": {},
   "outputs": [
    {
     "name": "stdout",
     "output_type": "stream",
     "text": [
      "[0.57893934 0.31076535 0.85376836 0.285903   0.26176623 0.47183917\n",
      " 0.04229393 0.79199267 0.46450759 0.56109144]\n"
     ]
    }
   ],
   "source": [
    "# 34. Create a NumPy array with random floats between 0 and 1.\n",
    "\n",
    "arr = np.random.rand(10)\n",
    "print(arr)"
   ]
  },
  {
   "cell_type": "code",
   "execution_count": 35,
   "id": "201c3a1d",
   "metadata": {},
   "outputs": [
    {
     "name": "stdout",
     "output_type": "stream",
     "text": [
      "32\n"
     ]
    }
   ],
   "source": [
    "# 35. Write a Python function to calculate the power of a number using recursion.\n",
    "\n",
    "def power(num, pow):\n",
    "    if pow == 1:\n",
    "        return num\n",
    "    return num * power(num, pow-1)\n",
    "\n",
    "print(power(2, 5))"
   ]
  },
  {
   "cell_type": "code",
   "execution_count": 36,
   "id": "56e10d0f",
   "metadata": {},
   "outputs": [
    {
     "name": "stdout",
     "output_type": "stream",
     "text": [
      "The factorial of 5 is: 120\n"
     ]
    }
   ],
   "source": [
    "# 36. Implement a function to calculate the factorial of a number using dynamic programming.\n",
    "\n",
    "def factorial_dp(n):\n",
    "  # Handle negative input (factorials are not defined for negative numbers)\n",
    "    if n < 0:\n",
    "        raise ValueError(\"Factorial is not defined for negative numbers\")\n",
    "\n",
    "    # Base case: factorial of 0 is 1\n",
    "    dp = [1] * (n + 1)\n",
    "\n",
    "  # Build the DP table iteratively\n",
    "    for i in range(1, n + 1):\n",
    "        dp[i] = dp[i - 1] * i\n",
    "\n",
    "    return dp[n]\n",
    "\n",
    "# Example usage\n",
    "n = 5\n",
    "result = factorial_dp(n)\n",
    "print(f\"The factorial of {n} is: {result}\")"
   ]
  },
  {
   "cell_type": "code",
   "execution_count": 37,
   "id": "2a290f36",
   "metadata": {},
   "outputs": [
    {
     "name": "stdout",
     "output_type": "stream",
     "text": [
      "[-2  4 -2]\n"
     ]
    }
   ],
   "source": [
    "# 37. Write a NumPy program to compute the outer product of two given vectors.\n",
    "\n",
    "def product(vec1, vec2):\n",
    "    return np.cross(vec1, vec2)\n",
    "\n",
    "vec1 = np.array([1, 2, 3])\n",
    "vec2 = np.array([3, 4, 5])\n",
    "print(product(vec1, vec2))"
   ]
  },
  {
   "cell_type": "code",
   "execution_count": 38,
   "id": "5b24fe8c",
   "metadata": {},
   "outputs": [
    {
     "name": "stdout",
     "output_type": "stream",
     "text": [
      "[[  1   4]\n",
      " [  2   5]\n",
      " [  3 100]]\n"
     ]
    }
   ],
   "source": [
    "# 38. How to convert a pandas DataFrame to a NumPy array?\n",
    "\n",
    "data = {'col1': [1, 2, 3], 'col2': [4, 5, 100]}\n",
    "df = pd.DataFrame(data)\n",
    "df.head()\n",
    "\n",
    "arr = df.to_numpy()\n",
    "print(arr)"
   ]
  },
  {
   "cell_type": "code",
   "execution_count": 43,
   "id": "5c7efb77",
   "metadata": {},
   "outputs": [
    {
     "name": "stdout",
     "output_type": "stream",
     "text": [
      "'john.doe@example.com' appears to be valid (basic checks)\n",
      "'invalid_email' appears to be invalid (basic checks)\n",
      "'user@domain' appears to be invalid (basic checks)\n",
      "'user@domain.123' appears to be valid (basic checks)\n",
      "'user.@domain.com' appears to be valid (basic checks)\n",
      "'user@domain-name.com' appears to be valid (basic checks)\n"
     ]
    }
   ],
   "source": [
    "# 39. Create a Python function to check if a given string is a valid email address.\n",
    "\n",
    "def is_valid_email(email):\n",
    "  # Check for basic structure: @ symbol separating username and domain\n",
    "    if not '@' in email:\n",
    "        return False\n",
    "\n",
    "  # Split into username and domain parts\n",
    "    username, domain = email.split('@')\n",
    "\n",
    "  # Check if username and domain are non-empty strings\n",
    "    if not username or not domain:\n",
    "        return False\n",
    "\n",
    "  # Basic check for allowed characters in username (alphanumeric and common symbols)\n",
    "    allowed_username_chars = set(\"abcdefghijklmnopqrstuvwxyzABCDEFGHIJKLMNOPQRSTUVWXYZ0123456789.-_\")\n",
    "    if not all(char in allowed_username_chars for char in username):\n",
    "        return False\n",
    "\n",
    "  # Basic check for dot (.) in domain\n",
    "    if not '.' in domain:\n",
    "        return False\n",
    "\n",
    "  # Split domain into parts separated by dots\n",
    "    domain_parts = domain.split('.')\n",
    "\n",
    "  # Check if domain has at least two parts (e.g., example.com)\n",
    "    if len(domain_parts) < 2:\n",
    "        return False\n",
    "\n",
    "  # Basic check for allowed characters in domain parts (alphanumeric and hyphens)\n",
    "    allowed_domain_chars = set(\"abcdefghijklmnopqrstuvwxyzABCDEFGHIJKLMNOPQRSTUVWXYZ0123456789-\")\n",
    "    for part in domain_parts:\n",
    "        if not all(char in allowed_domain_chars for char in part):\n",
    "            return False\n",
    "\n",
    "  # Basic checks passed, consider it potentially valid\n",
    "    return True\n",
    "\n",
    "# Example usage\n",
    "emails = [\n",
    "    \"john.doe@example.com\",  # Valid\n",
    "    \"invalid_email\",          # Invalid (no @)\n",
    "    \"user@domain\",            # Invalid (missing TLD)\n",
    "    \"user@domain.123\",         # Potentially valid (numeric TLD allowed in some cases)\n",
    "    \"user.@domain.com\",       # Invalid (missing username prefix)\n",
    "    \"user@domain-name.com\",   # Valid\n",
    "]\n",
    "\n",
    "for email in emails:\n",
    "    if is_valid_email(email):\n",
    "        print(f\"'{email}' appears to be valid (basic checks)\")\n",
    "    else:\n",
    "        print(f\"'{email}' appears to be invalid (basic checks)\")\n"
   ]
  },
  {
   "cell_type": "code",
   "execution_count": 44,
   "id": "87e8a9c7",
   "metadata": {},
   "outputs": [
    {
     "name": "stdout",
     "output_type": "stream",
     "text": [
      "[-2  4 -2]\n"
     ]
    }
   ],
   "source": [
    "# 40. Write a NumPy program to compute the cross product of two given vectors.\n",
    "\n",
    "def product(vec1, vec2):\n",
    "    return np.cross(vec1, vec2)\n",
    "\n",
    "vec1 = np.array([1, 2, 3])\n",
    "vec2 = np.array([3, 4, 5])\n",
    "print(product(vec1, vec2))"
   ]
  },
  {
   "cell_type": "code",
   "execution_count": 45,
   "id": "ea90194c",
   "metadata": {},
   "outputs": [
    {
     "name": "stdout",
     "output_type": "stream",
     "text": [
      "False\n"
     ]
    }
   ],
   "source": [
    "# 41. Implement a function to check if a list is sorted in ascending order.\n",
    "\n",
    "def checkSorted(list):\n",
    "    for i in range(1, len(list)):\n",
    "        if list[i] < list[i-1]:\n",
    "            return False\n",
    "    return True\n",
    "\n",
    "print(checkSorted([1, 2, 3, 4, 5, 9, 0, 1]))"
   ]
  },
  {
   "cell_type": "code",
   "execution_count": 68,
   "id": "23859c1f",
   "metadata": {},
   "outputs": [
    {
     "name": "stdout",
     "output_type": "stream",
     "text": [
      "fl\n"
     ]
    }
   ],
   "source": [
    "# 42. Write a Python function to find the longest common prefix of a list of strings.\n",
    "\n",
    "def longest_common_prefix(strs):\n",
    "  # Handle empty list or list with one element\n",
    "    if not strs:\n",
    "        return \"\"\n",
    "\n",
    "  # Initialize prefix as the first string\n",
    "    prefix = strs[0]\n",
    "\n",
    "  # Iterate through remaining strings, shortening the prefix if necessary\n",
    "    for s in strs[1:]:\n",
    "        while prefix != s[:len(prefix)]:\n",
    "            prefix = prefix[:-1]\n",
    "        if not prefix:\n",
    "            return \"\"\n",
    "\n",
    "    return prefix\n",
    "\n",
    "# Example usage\n",
    "strs = [\"flower\", \"flow\", \"flight\"]\n",
    "longest_prefix = longest_common_prefix(strs)\n",
    "print(longest_prefix)  # Output: \"fl\""
   ]
  },
  {
   "cell_type": "code",
   "execution_count": 70,
   "id": "01976e66",
   "metadata": {},
   "outputs": [
    {
     "name": "stdout",
     "output_type": "stream",
     "text": [
      "   col1 col2\n",
      "0     1    A\n",
      "1     2    B\n",
      "2     2    B\n",
      "3     3    C\n",
      "4     1    A\n",
      "   col1 col2\n",
      "0     1    A\n",
      "1     2    B\n",
      "3     3    C\n"
     ]
    }
   ],
   "source": [
    "# 43. How to drop duplicate rows from a pandas DataFrame?\n",
    "\n",
    "data = {'col1': [1, 2, 2, 3, 1], 'col2': ['A', 'B', 'B', 'C', 'A']}\n",
    "df = pd.DataFrame(data)\n",
    "print(df)\n",
    "dfNew = df.drop_duplicates()\n",
    "print(dfNew)"
   ]
  },
  {
   "cell_type": "code",
   "execution_count": 46,
   "id": "29bd657f",
   "metadata": {},
   "outputs": [
    {
     "name": "stdout",
     "output_type": "stream",
     "text": [
      "[1 3 5 7 9]\n"
     ]
    }
   ],
   "source": [
    "# 44. Create a NumPy array with evenly spaced values between 1 and 10.\n",
    "\n",
    "arr = np.arange(1, 11, 2)\n",
    "print(arr)"
   ]
  },
  {
   "cell_type": "code",
   "execution_count": 71,
   "id": "632eac9e",
   "metadata": {},
   "outputs": [
    {
     "name": "stdout",
     "output_type": "stream",
     "text": [
      "1\n"
     ]
    }
   ],
   "source": [
    "# 45. Write a Python function to find the GCD (Greatest Common Divisor) of two numbers.\n",
    "\n",
    "def gcd(num1, num2):\n",
    "    if num1 < num2:\n",
    "        num1, num2 = num2, num1\n",
    "    while num2 != 0:\n",
    "        r = num1 % num2\n",
    "        if r == 0:\n",
    "            return num2\n",
    "        num1 = num2\n",
    "        num2 = r\n",
    "\n",
    "print(gcd(2, 5))"
   ]
  },
  {
   "cell_type": "code",
   "execution_count": 50,
   "id": "4a9b3bf9",
   "metadata": {},
   "outputs": [
    {
     "name": "stdout",
     "output_type": "stream",
     "text": [
      "True\n"
     ]
    }
   ],
   "source": [
    "# 46. Implement a function to check if a string contains only vowels.\n",
    "\n",
    "def checkVowels(str):\n",
    "    vowels = \"aeiou\"\n",
    "    str = str.lower()\n",
    "    for ele in str:\n",
    "        if ele not in vowels:\n",
    "            return False\n",
    "    return True\n",
    "\n",
    "print(checkVowels(\"ae\"))"
   ]
  },
  {
   "cell_type": "code",
   "execution_count": 72,
   "id": "ba98db40",
   "metadata": {},
   "outputs": [
    {
     "name": "stdout",
     "output_type": "stream",
     "text": [
      "Eigenvalues: [-0.37228132  5.37228132]\n",
      "Eigenvectors:\n",
      " [[-0.82456484 -0.41597356]\n",
      " [ 0.56576746 -0.90937671]]\n"
     ]
    }
   ],
   "source": [
    "# 47. Write a NumPy program to compute the eigenvalues and eigenvectors of a given square array.\n",
    "\n",
    "import numpy as np\n",
    "\n",
    "def eig(A):\n",
    "  # Ensure the input is a square array\n",
    "    if A.shape[0] != A.shape[1]:\n",
    "        raise ValueError(\"Input array must be a square matrix\")\n",
    "\n",
    "  # Use NumPy's eig function to compute eigenvalues and eigenvectors\n",
    "    eigenvalues, eigenvectors = np.linalg.eig(A)\n",
    "\n",
    "    return eigenvalues, eigenvectors\n",
    "\n",
    "# Sample square array\n",
    "A = np.array([[1, 2], [3, 4]])\n",
    "\n",
    "# Compute eigenvalues and eigenvectors\n",
    "eigenvalues, eigenvectors = eig(A)\n",
    "\n",
    "# Print the results\n",
    "print(\"Eigenvalues:\", eigenvalues)\n",
    "print(\"Eigenvectors:\\n\", eigenvectors)"
   ]
  },
  {
   "cell_type": "code",
   "execution_count": 57,
   "id": "b241e234",
   "metadata": {},
   "outputs": [
    {
     "data": {
      "text/html": [
       "<div>\n",
       "<style scoped>\n",
       "    .dataframe tbody tr th:only-of-type {\n",
       "        vertical-align: middle;\n",
       "    }\n",
       "\n",
       "    .dataframe tbody tr th {\n",
       "        vertical-align: top;\n",
       "    }\n",
       "\n",
       "    .dataframe thead th {\n",
       "        text-align: right;\n",
       "    }\n",
       "</style>\n",
       "<table border=\"1\" class=\"dataframe\">\n",
       "  <thead>\n",
       "    <tr style=\"text-align: right;\">\n",
       "      <th></th>\n",
       "      <th>Name</th>\n",
       "      <th>Age</th>\n",
       "    </tr>\n",
       "  </thead>\n",
       "  <tbody>\n",
       "    <tr>\n",
       "      <th>0</th>\n",
       "      <td>A</td>\n",
       "      <td>2</td>\n",
       "    </tr>\n",
       "    <tr>\n",
       "      <th>1</th>\n",
       "      <td>B</td>\n",
       "      <td>2</td>\n",
       "    </tr>\n",
       "    <tr>\n",
       "      <th>2</th>\n",
       "      <td>C</td>\n",
       "      <td>3</td>\n",
       "    </tr>\n",
       "  </tbody>\n",
       "</table>\n",
       "</div>"
      ],
      "text/plain": [
       "  Name  Age\n",
       "0    A    2\n",
       "1    B    2\n",
       "2    C    3"
      ]
     },
     "execution_count": 57,
     "metadata": {},
     "output_type": "execute_result"
    }
   ],
   "source": [
    "# 48. How to group rows in a pandas DataFrame by a specific column?\n",
    "\n",
    "dict = {\"Name\": [\"A\", 'B', 'C'], \"Age\": [2, 2, 3]}\n",
    "df = pd.DataFrame(dict)\n",
    "newDf = df.groupby('Age')\n",
    "newDf.head()"
   ]
  },
  {
   "cell_type": "code",
   "execution_count": 69,
   "id": "187d46e8",
   "metadata": {},
   "outputs": [
    {
     "name": "stdout",
     "output_type": "stream",
     "text": [
      "True\n"
     ]
    }
   ],
   "source": [
    "# 49. Create a Python function to check if a given string is a valid IPv4 address.\n",
    "\n",
    "def checkIPV4(add):\n",
    "    valid = \"123456789\"\n",
    "    if add.count('.') == 3:\n",
    "        parts = add.split('.')\n",
    "        for ele in parts:\n",
    "            if len(ele) > 4:\n",
    "                return False\n",
    "            for num in ele:\n",
    "                if num not in valid:\n",
    "                    return False\n",
    "        return True\n",
    "    return False\n",
    "    \n",
    "print(checkIPV4('1.22.3.4'))"
   ]
  },
  {
   "cell_type": "code",
   "execution_count": 74,
   "id": "a3eca22b",
   "metadata": {},
   "outputs": [
    {
     "name": "stdout",
     "output_type": "stream",
     "text": [
      "25th percentile: 2\n",
      "50th percentile (median): 3\n",
      "75th percentile: 4\n"
     ]
    }
   ],
   "source": [
    "# 50. Write a NumPy program to compute the percentile of a given NumPy array.\n",
    "\n",
    "import numpy as np\n",
    "\n",
    "def percentile(arr, q):\n",
    "  # Check for valid percentile value\n",
    "    if q < 0 or q > 100:\n",
    "        raise ValueError(\"Percentile must be between 0 and 100\")\n",
    "\n",
    "  # Sorted copy to avoid modifying the original array\n",
    "    sorted_arr = np.sort(arr)\n",
    "\n",
    "  # Calculate the index based on percentile\n",
    "    index = int(np.floor(q / 100 * len(sorted_arr)))\n",
    "\n",
    "  # Handle edge cases (0th and 100th percentiles)\n",
    "    if q == 0:\n",
    "        return sorted_arr[0]\n",
    "    elif q == 100:\n",
    "        return sorted_arr[-1]\n",
    "\n",
    "  # Return the percentile value\n",
    "    return sorted_arr[index]\n",
    "\n",
    "# Sample array\n",
    "arr = np.array([3, 1, 4, 2, 5])\n",
    "\n",
    "# Compute percentiles\n",
    "p25 = percentile(arr, 25)\n",
    "p50 = percentile(arr, 50)\n",
    "p75 = percentile(arr, 75)\n",
    "\n",
    "print(\"25th percentile:\", p25)\n",
    "print(\"50th percentile (median):\", p50)\n",
    "print(\"75th percentile:\", p75)"
   ]
  },
  {
   "cell_type": "code",
   "execution_count": 75,
   "id": "a8f874cb",
   "metadata": {},
   "outputs": [
    {
     "name": "stdout",
     "output_type": "stream",
     "text": [
      "6\n"
     ]
    }
   ],
   "source": [
    "x = lambda a, b, c: a + b + c\n",
    "print(x(1, 2, 3))"
   ]
  }
 ],
 "metadata": {
  "kernelspec": {
   "display_name": "Python 3 (ipykernel)",
   "language": "python",
   "name": "python3"
  },
  "language_info": {
   "codemirror_mode": {
    "name": "ipython",
    "version": 3
   },
   "file_extension": ".py",
   "mimetype": "text/x-python",
   "name": "python",
   "nbconvert_exporter": "python",
   "pygments_lexer": "ipython3",
   "version": "3.11.5"
  }
 },
 "nbformat": 4,
 "nbformat_minor": 5
}
