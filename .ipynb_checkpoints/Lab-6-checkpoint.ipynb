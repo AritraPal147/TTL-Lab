{
 "cells": [
  {
   "cell_type": "code",
   "execution_count": 4,
   "metadata": {},
   "outputs": [
    {
     "name": "stdout",
     "output_type": "stream",
     "text": [
      "First few rows of the DataFrame:\n",
      "      Name  Age         City\n",
      "0    Alice   25     New York\n",
      "1      Bob   30  Los Angeles\n",
      "2  Charlie   35      Chicago\n",
      "3    David   40      Houston\n",
      "4    Emily   45      Phoenix\n",
      "\n",
      "Last few rows of the DataFrame:\n",
      "      Name  Age         City\n",
      "0    Alice   25     New York\n",
      "1      Bob   30  Los Angeles\n",
      "2  Charlie   35      Chicago\n",
      "3    David   40      Houston\n",
      "4    Emily   45      Phoenix\n",
      "\n",
      "DataFrame Info:\n",
      "<class 'pandas.core.frame.DataFrame'>\n",
      "RangeIndex: 5 entries, 0 to 4\n",
      "Data columns (total 3 columns):\n",
      " #   Column  Non-Null Count  Dtype \n",
      "---  ------  --------------  ----- \n",
      " 0   Name    5 non-null      object\n",
      " 1   Age     5 non-null      int64 \n",
      " 2   City    5 non-null      object\n",
      "dtypes: int64(1), object(2)\n",
      "memory usage: 252.0+ bytes\n",
      "None\n",
      "\n",
      "DataFrame Description:\n",
      "             Age\n",
      "count   5.000000\n",
      "mean   35.000000\n",
      "std     7.905694\n",
      "min    25.000000\n",
      "25%    30.000000\n",
      "50%    35.000000\n",
      "75%    40.000000\n",
      "max    45.000000\n"
     ]
    }
   ],
   "source": [
    "import pandas as pd\n",
    "\n",
    "# Sample DataFrame creation\n",
    "data = {'Name': ['Alice', 'Bob', 'Charlie', 'David', 'Emily'],\n",
    "        'Age': [25, 30, 35, 40, 45],\n",
    "        'City': ['New York', 'Los Angeles', 'Chicago', 'Houston', 'Phoenix']}\n",
    "df = pd.DataFrame(data)\n",
    "\n",
    "print(\"First few rows of the DataFrame:\")\n",
    "print(df.head())\n",
    "\n",
    "print(\"\\nLast few rows of the DataFrame:\")\n",
    "print(df.tail())\n",
    "\n",
    "print(\"\\nDataFrame Info:\")\n",
    "print(df.info())\n",
    "\n",
    "print(\"\\nDataFrame Description:\")\n",
    "print(df.describe())\n"
   ]
  },
  {
   "cell_type": "code",
   "execution_count": null,
   "metadata": {},
   "outputs": [],
   "source": [
    "import pandas as pd\n",
    "\n",
    "# Sample DataFrame creation\n",
    "data = {'Name': ['Alice', 'Bob', 'Charlie', 'David', 'Emily'],\n",
    "        'Age': [25, 30, 35, 40, 45],\n",
    "        'City': ['New York', 'Los Angeles', 'Chicago', 'Houston', 'Phoenix']}\n",
    "df = pd.DataFrame(data)\n",
    "\n",
    "print(df['Name'])\n",
    "\n",
    "print(df[['Name', 'City']])\n",
    "\n",
    "print(df.iloc[1:3])\n",
    "\n",
    "print(df.iloc[1:3, 0:2])\n",
    "\n",
    "print(df[df['Age'] > 30])\n",
    "\n",
    "print(df.loc[[1, 3], ['Name', 'Age']])\n",
    "\n",
    "print(df.at[2, 'City'])\n"
   ]
  },
  {
   "cell_type": "code",
   "execution_count": 5,
   "metadata": {},
   "outputs": [
    {
     "name": "stdout",
     "output_type": "stream",
     "text": [
      "Rows where Age is greater than 30:\n",
      "      Name  Age     City\n",
      "2  Charlie   35  Chicago\n",
      "3    David   40  Houston\n",
      "4    Emily   45  Phoenix\n",
      "\n",
      "Rows where City is 'New York':\n",
      "    Name  Age      City\n",
      "0  Alice   25  New York\n",
      "\n",
      "Rows where Name starts with 'A':\n",
      "    Name  Age      City\n",
      "0  Alice   25  New York\n"
     ]
    }
   ],
   "source": [
    "import pandas as pd\n",
    "\n",
    "\n",
    "data = {'Name': ['Alice', 'Bob', 'Charlie', 'David', 'Emily'],\n",
    "        'Age': [25, 30, 35, 40, 45],\n",
    "        'City': ['New York', 'Los Angeles', 'Chicago', 'Houston', 'Phoenix']}\n",
    "df = pd.DataFrame(data)\n",
    "\n",
    "filtered_df = df[df['Age'] > 30]\n",
    "print(\"Rows where Age is greater than 30:\")\n",
    "print(filtered_df)\n",
    "\n",
    "filtered_df = df[df['City'] == 'New York']\n",
    "print(\"\\nRows where City is 'New York':\")\n",
    "print(filtered_df)\n",
    "\n",
    "filtered_df = df[df['Name'].str.startswith('A')]\n",
    "print(\"\\nRows where Name starts with 'A':\")\n",
    "print(filtered_df)\n"
   ]
  },
  {
   "cell_type": "code",
   "execution_count": 6,
   "metadata": {},
   "outputs": [
    {
     "name": "stdout",
     "output_type": "stream",
     "text": [
      "    Name    Age   City\n",
      "0  False  False  False\n",
      "1  False   True  False\n",
      "2  False  False   True\n",
      "3  False  False  False\n",
      "4   True  False  False\n"
     ]
    },
    {
     "name": "stderr",
     "output_type": "stream",
     "text": [
      "C:\\Users\\KIIT\\AppData\\Local\\Temp\\ipykernel_20692\\2660897842.py:17: FutureWarning: Series.fillna with 'method' is deprecated and will raise in a future version. Use obj.ffill() or obj.bfill() instead.\n",
      "  df['Name'].fillna(method='ffill', inplace=True)\n",
      "C:\\Users\\KIIT\\AppData\\Local\\Temp\\ipykernel_20692\\2660897842.py:18: FutureWarning: Series.fillna with 'method' is deprecated and will raise in a future version. Use obj.ffill() or obj.bfill() instead.\n",
      "  df['City'].fillna(method='bfill', inplace=True)\n"
     ]
    }
   ],
   "source": [
    "import pandas as pd\n",
    "import numpy as np\n",
    "\n",
    "data = {'Name': ['Alice', 'Bob', 'Charlie', 'David', np.nan],\n",
    "        'Age': [25, np.nan, 35, 40, 45],\n",
    "        'City': ['New York', 'Los Angeles', np.nan, 'Houston', 'Phoenix']}\n",
    "df = pd.DataFrame(data)\n",
    "\n",
    "print(df.isnull())\n",
    "\n",
    "cleaned_df = df.dropna()\n",
    "\n",
    "cleaned_df = df.dropna(axis=1)\n",
    "\n",
    "df['Age'].fillna(df['Age'].mean(), inplace=True)\n",
    "\n",
    "df['Name'].fillna(method='ffill', inplace=True)\n",
    "df['City'].fillna(method='bfill', inplace=True)\n"
   ]
  },
  {
   "cell_type": "code",
   "execution_count": 7,
   "metadata": {},
   "outputs": [
    {
     "name": "stdout",
     "output_type": "stream",
     "text": [
      "Mean salary by city:\n",
      "City\n",
      "Chicago         80000.0\n",
      "Houston         90000.0\n",
      "Los Angeles     70000.0\n",
      "New York        60000.0\n",
      "Phoenix        100000.0\n",
      "Name: Salary, dtype: float64\n",
      "\n",
      "Total salary by city:\n",
      "City\n",
      "Chicago         80000\n",
      "Houston         90000\n",
      "Los Angeles    140000\n",
      "New York       120000\n",
      "Phoenix        100000\n",
      "Name: Salary, dtype: int64\n",
      "\n",
      "Mean salary by city and age:\n",
      "City         Age\n",
      "Chicago      35      80000.0\n",
      "Houston      40      90000.0\n",
      "Los Angeles  30      70000.0\n",
      "New York     25      60000.0\n",
      "Phoenix      45     100000.0\n",
      "Name: Salary, dtype: float64\n"
     ]
    }
   ],
   "source": [
    "import pandas as pd\n",
    "\n",
    "df = pd.read_csv('employees.csv')\n",
    "\n",
    "grouped_by_city = df.groupby('City')\n",
    "\n",
    "mean_salary_by_city = grouped_by_city['Salary'].mean()\n",
    "print(\"Mean salary by city:\")\n",
    "print(mean_salary_by_city)\n",
    "\n",
    "\n",
    "total_salary_by_city = grouped_by_city['Salary'].sum()\n",
    "print(\"\\nTotal salary by city:\")\n",
    "print(total_salary_by_city)\n",
    "\n",
    "\n",
    "grouped_by_city_age = df.groupby(['City', 'Age'])\n",
    "\n",
    "\n",
    "mean_salary_by_city_age = grouped_by_city_age['Salary'].mean()\n",
    "print(\"\\nMean salary by city and age:\")\n",
    "print(mean_salary_by_city_age)\n"
   ]
  },
  {
   "cell_type": "code",
   "execution_count": 8,
   "metadata": {},
   "outputs": [
    {
     "data": {
      "image/png": "[encoded data removed]",
      "text/plain": [
       "<Figure size 640x480 with 1 Axes>"
      ]
     },
     "metadata": {},
     "output_type": "display_data"
    },
    {
     "data": {
      "image/png": "[encoded data removed]",
      "text/plain": [
       "<Figure size 640x480 with 1 Axes>"
      ]
     },
     "metadata": {},
     "output_type": "display_data"
    }
   ],
   "source": [
    "import pandas as pd\n",
    "import matplotlib.pyplot as plt\n",
    "\n",
    "# Read the CSV file into a DataFrame\n",
    "df = pd.read_csv('employees.csv')\n",
    "\n",
    "# Bar plot of mean salary by city\n",
    "mean_salary_by_city = df.groupby('City')['Salary'].mean()\n",
    "mean_salary_by_city.plot(kind='bar', color='skyblue')\n",
    "plt.title('Mean Salary by City')\n",
    "plt.xlabel('City')\n",
    "plt.ylabel('Mean Salary')\n",
    "plt.xticks(rotation=45)\n",
    "plt.show()\n",
    "\n",
    "# Histogram of age distribution\n",
    "df['Age'].plot(kind='hist', bins=5, color='orange', edgecolor='black')\n",
    "plt.title('Age Distribution')\n",
    "plt.xlabel('Age')\n",
    "plt.ylabel('Frequency')\n",
    "plt.show()\n"
   ]
  }
 ],
 "metadata": {
  "kernelspec": {
   "display_name": "Python 3 (ipykernel)",
   "language": "python",
   "name": "python3"
  },
  "language_info": {
   "codemirror_mode": {
    "name": "ipython",
    "version": 3
   },
   "file_extension": ".py",
   "mimetype": "text/x-python",
   "name": "python",
   "nbconvert_exporter": "python",
   "pygments_lexer": "ipython3",
   "version": "3.11.5"
  }
 },
 "nbformat": 4,
 "nbformat_minor": 2
}
