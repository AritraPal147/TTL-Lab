{
 "cells": [
  {
   "cell_type": "code",
   "execution_count": null,
   "id": "8402ac86",
   "metadata": {},
   "outputs": [],
   "source": [
    "# Experiment-5: Create a Python module by defining a few functions and variables and Import the\n",
    "# module created in step 1 into another Python script and use its functions and variables.\n",
    "\n",
    "# Creation of Python module\n",
    "PI = 3.14159\n",
    "\n",
    "# Greets a person by name.\n",
    "def greet(name):\n",
    "  return f\"Hello, {name}!\"\n",
    "\n",
    "# Calculates the area of various shapes.\n",
    "# Supported Shapes:\n",
    "#    - 'circle': radius\n",
    "#    - 'rectangle': length, width\n",
    "#    - 'triangle': base, height (assumes right triangle)\n",
    "def calculate_area(shape, *args):\n",
    "  if shape == 'circle':\n",
    "    return PI * args[0] ** 2\n",
    "  elif shape == 'rectangle':\n",
    "    return args[0] * args[1]\n",
    "  elif shape == 'triangle':\n",
    "    return 0.5 * args[0] * args[1]\n",
    "  else:\n",
    "    raise ValueError(f\"Unsupported shape: {shape}\")\n"
   ]
  }
 ],
 "metadata": {
  "kernelspec": {
   "display_name": "Python 3 (ipykernel)",
   "language": "python",
   "name": "python3"
  },
  "language_info": {
   "codemirror_mode": {
    "name": "ipython",
    "version": 3
   },
   "file_extension": ".py",
   "mimetype": "text/x-python",
   "name": "python",
   "nbconvert_exporter": "python",
   "pygments_lexer": "ipython3",
   "version": "3.11.5"
  }
 },
 "nbformat": 4,
 "nbformat_minor": 5
}
